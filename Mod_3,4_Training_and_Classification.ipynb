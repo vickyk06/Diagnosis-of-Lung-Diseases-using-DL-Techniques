{
 "cells": [
  {
   "cell_type": "code",
   "execution_count": 41,
   "id": "6be5c3c8",
   "metadata": {},
   "outputs": [],
   "source": [
    "import tensorflow as tf\n",
    "gpu_devices = tf.config.experimental.list_physical_devices(\"GPU\")\n",
    "for device in gpu_devices:\n",
    "    tf.config.experimental.set_memory_growth(device, True)"
   ]
  },
  {
   "cell_type": "code",
   "execution_count": 42,
   "id": "30dd55fb",
   "metadata": {},
   "outputs": [],
   "source": [
    "import numpy as np\n",
    "import os\n",
    "import pandas as pd\n",
    "from keras.utils import Sequence\n",
    "from PIL import Image\n",
    "from skimage.transform import resize\n",
    "\n",
    "\n",
    "class AugmentedImageSequence(Sequence):\n",
    "    \"\"\"\n",
    "    image generator with imgaug support\n",
    "    \"\"\"\n",
    "\n",
    "    def __init__(self, dataset_csv_file, class_names, source_image_dir, batch_size=16,\n",
    "                 target_size=(224, 224), augmenter=None, verbose=0, steps=None,\n",
    "                 shuffle_on_epoch_end=True, random_state=1):\n",
    "        \"\"\"\n",
    "        :param dataset_csv_file: str, path of dataset csv file\n",
    "        :param class_names: list of str\n",
    "        :param batch_size: int\n",
    "        :param target_size: tuple(int, int)\n",
    "        :param augmenter: imgaug object. Do not specify resize in augmenter.\n",
    "                          It will be done automatically according to input_shape of the model.\n",
    "        :param verbose: int\n",
    "        \"\"\"\n",
    "        self.dataset_df = pd.read_csv(dataset_csv_file)#r'C:/Users/Vignesh/Downloads/data/Data_Entry_2017.csv')\n",
    "        self.source_image_dir = source_image_dir\n",
    "        self.batch_size = batch_size\n",
    "        self.target_size = target_size\n",
    "        self.augmenter = augmenter\n",
    "        self.verbose = verbose\n",
    "        self.shuffle = shuffle_on_epoch_end\n",
    "        self.random_state = random_state\n",
    "        self.class_names = class_names\n",
    "        self.prepare_dataset()\n",
    "        if steps is None:\n",
    "            self.steps = int(np.ceil(len(self.x_path) / float(self.batch_size)))\n",
    "        else:\n",
    "            self.steps = int(steps)\n",
    "\n",
    "    def __bool__(self):\n",
    "        return True\n",
    "\n",
    "    def __len__(self):\n",
    "        return self.steps\n",
    "\n",
    "    def __getitem__(self, idx):\n",
    "        batch_x_path = self.x_path[idx * self.batch_size:(idx + 1) * self.batch_size]\n",
    "        batch_x = np.asarray([self.load_image(x_path) for x_path in batch_x_path])\n",
    "        batch_x = self.transform_batch_images(batch_x)\n",
    "        batch_y = self.y[idx * self.batch_size:(idx + 1) * self.batch_size]\n",
    "        return batch_x, batch_y\n",
    "\n",
    "    def load_image(self, image_file):\n",
    "        image_path = os.path.join(self.source_image_dir, image_file)\n",
    "        image = Image.open(image_path)\n",
    "        image_array = np.asarray(image.convert(\"RGB\"))\n",
    "        image_array = image_array / 255.\n",
    "        image_array = resize(image_array, self.target_size)\n",
    "        return image_array\n",
    "\n",
    "    def transform_batch_images(self, batch_x):\n",
    "        if self.augmenter is not None:\n",
    "            batch_x = self.augmenter.augment_images(batch_x)\n",
    "        imagenet_mean = np.array([0.485, 0.456, 0.406])\n",
    "        imagenet_std = np.array([0.229, 0.224, 0.225])\n",
    "        batch_x = (batch_x - imagenet_mean) / imagenet_std\n",
    "        return batch_x\n",
    "\n",
    "    def get_y_true(self):\n",
    "        \"\"\"\n",
    "        Use this function to get y_true for predict_generator\n",
    "        \"\"\"\n",
    "        if self.shuffle:\n",
    "            raise ValueError(\"\"\"\n",
    "            You're trying run get_y_true() when generator option 'shuffle_on_epoch_end' is True.\n",
    "            \"\"\")\n",
    "        return self.y[:self.steps*self.batch_size, :]\n",
    "\n",
    "    def prepare_dataset(self):\n",
    "        df = self.dataset_df.sample(frac=1., random_state=self.random_state)\n",
    "        self.x_path, self.y = df[\"Image Index\"].to_numpy(), df[self.class_names].to_numpy()\n",
    "\n",
    "    def on_epoch_end(self):\n",
    "        if self.shuffle:\n",
    "            self.random_state += 1\n",
    "            self.prepare_dataset()\n"
   ]
  },
  {
   "cell_type": "code",
   "execution_count": 43,
   "id": "8496f287",
   "metadata": {},
   "outputs": [],
   "source": [
    "import json\n",
    "import keras.backend as kb\n",
    "import numpy as np\n",
    "import os\n",
    "import shutil\n",
    "import warnings\n",
    "from keras.callbacks import Callback\n",
    "from sklearn.metrics import roc_auc_score\n",
    "\n",
    "\n",
    "class MultipleClassAUROC(Callback):\n",
    "    \"\"\"\n",
    "   tO Monitor mean AUROC and update model\n",
    "    \"\"\"\n",
    "    def __init__(self, sequence, class_names, weights_path, stats=None, workers=1):\n",
    "        super(Callback, self).__init__()\n",
    "        self.sequence = sequence\n",
    "        self.workers = workers\n",
    "        self.class_names = class_names\n",
    "        self.weights_path = weights_path\n",
    "        self.best_weights_path = os.path.join(\n",
    "            os.path.split(weights_path)[0],\n",
    "            f\"best_{os.path.split(weights_path)[1]}\",\n",
    "        )\n",
    "        self.best_auroc_log_path = os.path.join(\n",
    "            os.path.split(weights_path)[0],\n",
    "            \"best_auroc.log\",\n",
    "        )\n",
    "        self.stats_output_path = os.path.join(\n",
    "            os.path.split(weights_path)[0],\n",
    "            \".training_stats.json\"\n",
    "        )\n",
    "        # for resuming previous training\n",
    "        if stats:\n",
    "            self.stats = stats\n",
    "        else:\n",
    "            self.stats = {\"best_mean_auroc\": 0}\n",
    "\n",
    "        # aurocs log\n",
    "        self.aurocs = {}\n",
    "        for c in self.class_names:\n",
    "            self.aurocs[c] = []\n",
    "\n",
    "    def on_epoch_end(self, epoch, logs={}):\n",
    "        \"\"\"\n",
    "        Calculate the average AUROC and save the best model weights according\n",
    "        to this metric.\n",
    "        \"\"\"\n",
    "        print(\"\\n*********************************\")\n",
    "        self.stats[\"lr\"] = float(kb.eval(self.model.optimizer.lr))\n",
    "        print(f\"current learning rate: {self.stats['lr']}\")\n",
    "\n",
    "        \"\"\"\n",
    "        y_hat shape: (#samples, len(class_names))\n",
    "        y: [(#samples, 1), (#samples, 1) ... (#samples, 1)]\n",
    "        \"\"\"\n",
    "        y_hat = self.model.predict_generator(self.sequence, workers=self.workers)\n",
    "        y = self.sequence.get_y_true()\n",
    "\n",
    "        print(f\"*** epoch#{epoch + 1} dev auroc ***\")\n",
    "        current_auroc = []\n",
    "        for i in range(len(self.class_names)):\n",
    "            try:\n",
    "                score = roc_auc_score(y[:, i], y_hat[:, i])\n",
    "            except ValueError:\n",
    "                score = 0\n",
    "            self.aurocs[self.class_names[i]].append(score)\n",
    "            current_auroc.append(score)\n",
    "            print(f\"{i+1}. {self.class_names[i]}: {score}\")\n",
    "        print(\"*********************************\")\n",
    "\n",
    "        # customize your multiple class metrics here\n",
    "        mean_auroc = np.mean(current_auroc)\n",
    "        print(f\"mean auroc: {mean_auroc}\")\n",
    "        if mean_auroc > self.stats[\"best_mean_auroc\"]:\n",
    "            print(f\"update best auroc from {self.stats['best_mean_auroc']} to {mean_auroc}\")\n",
    "\n",
    "            # 1. copy best model\n",
    "            shutil.copy(self.weights_path, self.best_weights_path)\n",
    "\n",
    "            # 2. update log file\n",
    "            print(f\"update log file: {self.best_auroc_log_path}\")\n",
    "            with open(self.best_auroc_log_path, \"a\") as f:\n",
    "                f.write(f\"(epoch#{epoch + 1}) auroc: {mean_auroc}, lr: {self.stats['lr']}\\n\")\n",
    "\n",
    "            # 3. write stats output, this is used for resuming the training\n",
    "            with open(self.stats_output_path, 'w') as f:\n",
    "                json.dump(self.stats, f)\n",
    "\n",
    "            print(f\"update model file: {self.weights_path} -> {self.best_weights_path}\")\n",
    "            self.stats[\"best_mean_auroc\"] = mean_auroc\n",
    "            print(\"*********************************\")\n",
    "        return"
   ]
  },
  {
   "cell_type": "code",
   "execution_count": 44,
   "id": "0a75614b",
   "metadata": {},
   "outputs": [],
   "source": [
    "import importlib\n",
    "from keras.layers import Input\n",
    "from keras.layers.core import Dense\n",
    "from keras.models import Model\n",
    "\n",
    "\n",
    "class ModelFactory:\n",
    "    \"\"\"\n",
    "    Model facotry for Keras default models\n",
    "    \"\"\"\n",
    "\n",
    "    def __init__(self):\n",
    "        self.models_ = dict(\n",
    "            DenseNet121=dict(\n",
    "                input_shape=(224, 224, 3),\n",
    "                module_name=\"densenet\",\n",
    "                last_conv_layer=\"bn\",\n",
    "            )\n",
    "        )\n",
    "\n",
    "    def get_last_conv_layer(self, model_name):\n",
    "        return self.models_[model_name][\"last_conv_layer\"]\n",
    "\n",
    "    def get_input_size(self, model_name):\n",
    "        return self.models_[model_name][\"input_shape\"][:2]\n",
    "\n",
    "    def get_model(self, class_names, model_name=\"DenseNet121\", use_base_weights=True,\n",
    "                  weights_path=None, input_shape=None):\n",
    "\n",
    "        if use_base_weights is True:\n",
    "            base_weights = \"imagenet\"\n",
    "        else:\n",
    "            base_weights = None\n",
    "\n",
    "        base_model_class = getattr(\n",
    "            importlib.import_module(\n",
    "                f\"keras.applications.{self.models_[model_name]['module_name']}\"\n",
    "            ),\n",
    "            model_name)\n",
    "\n",
    "        if input_shape is None:\n",
    "            input_shape = self.models_[model_name][\"input_shape\"]\n",
    "\n",
    "        img_input = Input(shape=input_shape)\n",
    "\n",
    "        base_model = base_model_class(\n",
    "            include_top=False,\n",
    "            input_tensor=img_input,\n",
    "            input_shape=input_shape,\n",
    "            weights=base_weights,\n",
    "            pooling=\"avg\")\n",
    "        x = base_model.output\n",
    "        predictions = Dense(len(class_names), activation=\"sigmoid\", name=\"predictions\")(x)\n",
    "        model = Model(inputs=img_input, outputs=predictions)\n",
    "\n",
    "        if weights_path == \"\":\n",
    "            weights_path = None\n",
    "\n",
    "        if weights_path is not None:\n",
    "            print(f\"load model weights_path: {weights_path}\")\n",
    "            model.load_weights(weights_path)\n",
    "        return model"
   ]
  },
  {
   "cell_type": "code",
   "execution_count": 45,
   "id": "c164fe42",
   "metadata": {},
   "outputs": [],
   "source": [
    "import numpy as np\n",
    "import os\n",
    "import pandas as pd\n",
    "\n",
    "\n",
    "def get_sample_counts(output_dir, dataset, class_names):\n",
    "    \"\"\"\n",
    "  tO  Get total and class-wise positive sample count of a dataset\n",
    "\n",
    "    Returns:\n",
    "    total_count - int\n",
    "    class_positive_counts - dict of int, ex: {\"Effusion\": 300, \"Infiltration\": 500 ...}\n",
    "    \"\"\"\n",
    "    df = pd.read_csv(os.path.join(output_dir, f\"{dataset}.csv\"))\n",
    "    total_count = df.shape[0]\n",
    "    labels = df[class_names].to_numpy()\n",
    "    positive_counts = np.sum(labels, axis=0)\n",
    "    class_positive_counts = dict(zip(class_names, positive_counts))\n",
    "    return total_count, class_positive_counts"
   ]
  },
  {
   "cell_type": "code",
   "execution_count": 46,
   "id": "57be876c",
   "metadata": {},
   "outputs": [],
   "source": [
    "import numpy as np\n",
    "\n",
    "\n",
    "def get_class_weights(total_counts, class_positive_counts, multiply):\n",
    "    \"\"\"\n",
    "    \n",
    "   tO Calculate class_weight used in training\n",
    "    Returns:\n",
    "    class_weight - dict of dict, ex: {\"Effusion\": { 0: 0.01, 1: 0.99 }, ... }\n",
    "    \"\"\"\n",
    "    def get_single_class_weight(pos_counts, total_counts):\n",
    "        denominator = (total_counts - pos_counts) * multiply + pos_counts\n",
    "        return {\n",
    "            0: pos_counts / denominator,\n",
    "            1: (denominator - pos_counts) / denominator,\n",
    "        }\n",
    "\n",
    "    class_names = list(class_positive_counts.keys())\n",
    "    label_counts = np.array(list(class_positive_counts.values()))\n",
    "    class_weights = []\n",
    "    for i, class_name in enumerate(class_names):\n",
    "        class_weights.append(get_single_class_weight(label_counts[i], total_counts))\n",
    "\n",
    "    return class_weights"
   ]
  },
  {
   "cell_type": "code",
   "execution_count": 47,
   "id": "53d91356",
   "metadata": {},
   "outputs": [],
   "source": [
    "\n",
    "from imgaug import augmenters as iaa\n",
    "\n",
    "augmenter = iaa.Sequential(\n",
    "    [\n",
    "        iaa.Fliplr(0.5),\n",
    "    ],\n",
    "    random_order=True,\n",
    ")"
   ]
  },
  {
   "cell_type": "code",
   "execution_count": null,
   "id": "9c9a3e58",
   "metadata": {},
   "outputs": [],
   "source": []
  },
  {
   "cell_type": "code",
   "execution_count": 48,
   "id": "cf80259c",
   "metadata": {},
   "outputs": [],
   "source": [
    "import json\n",
    "import shutil\n",
    "import os\n",
    "import pickle\n",
    "\n",
    "from configparser import ConfigParser\n",
    "\n",
    "from keras.callbacks import ModelCheckpoint, TensorBoard, ReduceLROnPlateau\n",
    "from keras.optimizers import Adam\n",
    "\n"
   ]
  },
  {
   "cell_type": "code",
   "execution_count": 49,
   "id": "89178bb7",
   "metadata": {},
   "outputs": [
    {
     "name": "stdout",
     "output_type": "stream",
     "text": [
      "** use trained model weights **\n"
     ]
    }
   ],
   "source": [
    "    # parser config\n",
    "    config_file = \"config.ini\"\n",
    "    cp = ConfigParser()\n",
    "    cp.read(config_file)\n",
    "\n",
    "    # default config\n",
    "    output_dir = cp[\"DEFAULT\"].get(\"output_dir\")\n",
    "    image_source_dir = cp[\"DEFAULT\"].get(\"image_source_dir\")\n",
    "    base_model_name = cp[\"DEFAULT\"].get(\"base_model_name\")\n",
    "    class_names = cp[\"DEFAULT\"].get(\"class_names\").split(\",\")\n",
    "\n",
    "    # train config\n",
    "    use_base_model_weights = cp[\"TRAIN\"].getboolean(\"use_base_model_weights\")\n",
    "    use_trained_model_weights = cp[\"TRAIN\"].getboolean(\"use_trained_model_weights\")\n",
    "    use_best_weights = cp[\"TRAIN\"].getboolean(\"use_best_weights\")\n",
    "    output_weights_name = cp[\"TRAIN\"].get(\"output_weights_name\")\n",
    "    epochs = cp[\"TRAIN\"].getint(\"epochs\")\n",
    "    batch_size = cp[\"TRAIN\"].getint(\"batch_size\")\n",
    "    initial_learning_rate = cp[\"TRAIN\"].getfloat(\"initial_learning_rate\")\n",
    "    generator_workers = cp[\"TRAIN\"].getint(\"generator_workers\")\n",
    "    image_dimension = cp[\"TRAIN\"].getint(\"image_dimension\")\n",
    "    train_steps = cp[\"TRAIN\"].get(\"train_steps\")\n",
    "    patience_reduce_lr = cp[\"TRAIN\"].getint(\"patience_reduce_lr\")\n",
    "    min_lr = cp[\"TRAIN\"].getfloat(\"min_lr\")\n",
    "    validation_steps = cp[\"TRAIN\"].get(\"validation_steps\")\n",
    "    positive_weights_multiply = cp[\"TRAIN\"].getfloat(\"positive_weights_multiply\")\n",
    "    dataset_csv_dir = cp[\"TRAIN\"].get(\"dataset_csv_dir\")\n",
    "    # if previously trained weights is used, never re-split\n",
    "    if use_trained_model_weights:\n",
    "        # resuming mode\n",
    "        print(\"** use trained model weights **\")\n",
    "        # load training status for resuming\n",
    "        training_stats_file = os.path.join(output_dir, \".training_stats.json\")\n",
    "        if os.path.isfile(training_stats_file):\n",
    "            # TODO: add loading previous learning rate?\n",
    "            training_stats = json.load(open(training_stats_file))\n",
    "        else:\n",
    "            training_stats = {}\n",
    "    else:\n",
    "        # start over\n",
    "        training_stats = {}"
   ]
  },
  {
   "cell_type": "code",
   "execution_count": null,
   "id": "4c94d3ac",
   "metadata": {},
   "outputs": [],
   "source": []
  },
  {
   "cell_type": "code",
   "execution_count": 40,
   "id": "c427f686",
   "metadata": {
    "scrolled": false
   },
   "outputs": [
    {
     "name": "stdout",
     "output_type": "stream",
     "text": [
      "backup config file to ./experiments/1\n",
      "** train_steps: 6516 **\n",
      "** validation_steps: 396 **\n",
      "** compute class weights from training data **\n",
      "** class_weights **\n",
      "[{0: 0.1032743176107264, 1: 0.8967256823892736}, {0: 0.024590950070013235, 1: 0.9754090499299868}, {0: 0.11874436537318013, 1: 0.8812556346268199}, {0: 0.17674026048759903, 1: 0.823259739512401}, {0: 0.05132066061803464, 1: 0.9486793393819654}, {0: 0.05654767613603667, 1: 0.9434523238639633}, {0: 0.012736654326434312, 1: 0.9872633456735657}, {0: 0.04782958970325897, 1: 0.952170410296741}, {0: 0.04120230947768208, 1: 0.9587976905223179}, {0: 0.020505246197226323, 1: 0.9794947538027736}, {0: 0.022826232904302458, 1: 0.9771737670956976}, {0: 0.015076822741833388, 1: 0.9849231772581666}, {0: 0.030201599754474135, 1: 0.9697984002455259}, {0: 0.002004488519747569, 1: 0.9979955114802525}]\n",
      "** load model **\n",
      "** create image generators **\n",
      "** set output weights path to: ./experiments/1\\weights.h5 **\n",
      "** check multiple gpu availability **\n",
      "** compile model with class weights **\n",
      "WARNING:tensorflow:`batch_size` is no longer needed in the `TensorBoard` Callback and will be ignored in TensorFlow 2.0.\n",
      "** start training **\n",
      "Epoch 1/20\n",
      "   6/6516 [..............................] - ETA: 11:20:40 - loss: 0.7531WARNING:tensorflow:Callback method `on_train_batch_end` is slow compared to the batch time (batch time: 0.4127s vs `on_train_batch_end` time: 4.8843s). Check your callbacks.\n",
      "6516/6516 [==============================] - 3527s 539ms/step - loss: 0.1795 - val_loss: 0.1766\n",
      "\n",
      "Epoch 00001: val_loss improved from inf to 0.17665, saving model to ./experiments/1\\weights.h5\n",
      "\n",
      "*********************************\n",
      "current learning rate: 0.0010000000474974513\n"
     ]
    },
    {
     "name": "stderr",
     "output_type": "stream",
     "text": [
      "C:\\Users\\Vignesh\\Anaconda3\\lib\\site-packages\\tensorflow\\python\\keras\\engine\\training.py:1905: UserWarning: `Model.predict_generator` is deprecated and will be removed in a future version. Please use `Model.predict`, which supports generators.\n",
      "  warnings.warn('`Model.predict_generator` is deprecated and '\n"
     ]
    },
    {
     "name": "stdout",
     "output_type": "stream",
     "text": [
      "*** epoch#1 dev auroc ***\n",
      "1. Atelectasis: 0.7175534165432621\n",
      "2. Cardiomegaly: 0.6522694417335122\n",
      "3. Effusion: 0.8383504226258662\n",
      "4. Infiltration: 0.6755542678120532\n",
      "5. Mass: 0.6928544794600686\n",
      "6. Nodule: 0.589131681389139\n",
      "7. Pneumonia: 0.6935280587008374\n",
      "8. Pneumothorax: 0.7132891901730635\n",
      "9. Consolidation: 0.7685370308541352\n",
      "10. Edema: 0.8455870493358635\n",
      "11. Emphysema: 0.6960826932619528\n",
      "12. Fibrosis: 0.6630339015161967\n",
      "13. Pleural_Thickening: 0.6823364264714198\n",
      "14. Hernia: 0.7380794178136372\n",
      "*********************************\n",
      "mean auroc: 0.7118705341207863\n",
      "update best auroc from 0 to 0.7118705341207863\n",
      "update log file: ./experiments/1\\best_auroc.log\n",
      "update model file: ./experiments/1\\weights.h5 -> ./experiments/1\\best_weights.h5\n",
      "*********************************\n",
      "Epoch 2/20\n",
      "6516/6516 [==============================] - 3485s 534ms/step - loss: 0.1652 - val_loss: 0.1750\n",
      "\n",
      "Epoch 00002: val_loss improved from 0.17665 to 0.17497, saving model to ./experiments/1\\weights.h5\n",
      "\n",
      "*********************************\n",
      "current learning rate: 0.0010000000474974513\n"
     ]
    },
    {
     "name": "stderr",
     "output_type": "stream",
     "text": [
      "C:\\Users\\Vignesh\\Anaconda3\\lib\\site-packages\\tensorflow\\python\\keras\\engine\\training.py:1905: UserWarning: `Model.predict_generator` is deprecated and will be removed in a future version. Please use `Model.predict`, which supports generators.\n",
      "  warnings.warn('`Model.predict_generator` is deprecated and '\n"
     ]
    },
    {
     "name": "stdout",
     "output_type": "stream",
     "text": [
      "*** epoch#2 dev auroc ***\n",
      "1. Atelectasis: 0.7515976932342643\n",
      "2. Cardiomegaly: 0.8052251697449521\n",
      "3. Effusion: 0.8376558810778141\n",
      "4. Infiltration: 0.6806256763436693\n",
      "5. Mass: 0.7424345505213716\n",
      "6. Nodule: 0.6503521167758562\n",
      "7. Pneumonia: 0.7081810144789734\n",
      "8. Pneumothorax: 0.7995964885526224\n",
      "9. Consolidation: 0.7709920065989748\n",
      "10. Edema: 0.8673980075901329\n",
      "11. Emphysema: 0.7554454407581613\n",
      "12. Fibrosis: 0.7224769756264451\n",
      "13. Pleural_Thickening: 0.7237969624583027\n",
      "14. Hernia: 0.703875968992248\n",
      "*********************************\n",
      "mean auroc: 0.7514038537681278\n",
      "update best auroc from 0.7118705341207863 to 0.7514038537681278\n",
      "update log file: ./experiments/1\\best_auroc.log\n",
      "update model file: ./experiments/1\\weights.h5 -> ./experiments/1\\best_weights.h5\n",
      "*********************************\n",
      "Epoch 3/20\n",
      "6516/6516 [==============================] - 3475s 532ms/step - loss: 0.1606 - val_loss: 0.1661\n",
      "\n",
      "Epoch 00003: val_loss improved from 0.17497 to 0.16612, saving model to ./experiments/1\\weights.h5\n",
      "\n",
      "*********************************\n",
      "current learning rate: 0.0010000000474974513\n"
     ]
    },
    {
     "name": "stderr",
     "output_type": "stream",
     "text": [
      "C:\\Users\\Vignesh\\Anaconda3\\lib\\site-packages\\tensorflow\\python\\keras\\engine\\training.py:1905: UserWarning: `Model.predict_generator` is deprecated and will be removed in a future version. Please use `Model.predict`, which supports generators.\n",
      "  warnings.warn('`Model.predict_generator` is deprecated and '\n"
     ]
    },
    {
     "name": "stdout",
     "output_type": "stream",
     "text": [
      "*** epoch#3 dev auroc ***\n",
      "1. Atelectasis: 0.7624862114297802\n",
      "2. Cardiomegaly: 0.8295254447813539\n",
      "3. Effusion: 0.8567317821582311\n",
      "4. Infiltration: 0.6770742875846683\n",
      "5. Mass: 0.7699792161575685\n",
      "6. Nodule: 0.6705195105101376\n",
      "7. Pneumonia: 0.6961863472404578\n",
      "8. Pneumothorax: 0.7995737364594299\n",
      "9. Consolidation: 0.7830452360844962\n",
      "10. Edema: 0.8696537001897532\n",
      "11. Emphysema: 0.8190504811892398\n",
      "12. Fibrosis: 0.6969317389632916\n",
      "13. Pleural_Thickening: 0.7295409410866738\n",
      "14. Hernia: 0.719031798766018\n",
      "*********************************\n",
      "mean auroc: 0.7628093166143642\n",
      "update best auroc from 0.7514038537681278 to 0.7628093166143642\n",
      "update log file: ./experiments/1\\best_auroc.log\n",
      "update model file: ./experiments/1\\weights.h5 -> ./experiments/1\\best_weights.h5\n",
      "*********************************\n",
      "Epoch 4/20\n",
      "6516/6516 [==============================] - 3477s 532ms/step - loss: 0.1565 - val_loss: 0.1734\n",
      "\n",
      "Epoch 00004: val_loss did not improve from 0.16612\n",
      "\n",
      "Epoch 00004: ReduceLROnPlateau reducing learning rate to 0.00010000000474974513.\n",
      "\n",
      "*********************************\n",
      "current learning rate: 0.00010000000474974513\n"
     ]
    },
    {
     "name": "stderr",
     "output_type": "stream",
     "text": [
      "C:\\Users\\Vignesh\\Anaconda3\\lib\\site-packages\\tensorflow\\python\\keras\\engine\\training.py:1905: UserWarning: `Model.predict_generator` is deprecated and will be removed in a future version. Please use `Model.predict`, which supports generators.\n",
      "  warnings.warn('`Model.predict_generator` is deprecated and '\n"
     ]
    },
    {
     "name": "stdout",
     "output_type": "stream",
     "text": [
      "*** epoch#4 dev auroc ***\n",
      "1. Atelectasis: 0.7406839454631016\n",
      "2. Cardiomegaly: 0.743195328034403\n",
      "3. Effusion: 0.8557333483906193\n",
      "4. Infiltration: 0.6856536652816929\n",
      "5. Mass: 0.7729318488087606\n",
      "6. Nodule: 0.6314325107895798\n",
      "7. Pneumonia: 0.7183407747879338\n",
      "8. Pneumothorax: 0.7994402985074626\n",
      "9. Consolidation: 0.7799898434146328\n",
      "10. Edema: 0.8540464895635674\n",
      "11. Emphysema: 0.7877972924805882\n",
      "12. Fibrosis: 0.6752418317965356\n",
      "13. Pleural_Thickening: 0.7521166676089784\n",
      "14. Hernia: 0.7317513051732321\n",
      "*********************************\n",
      "mean auroc: 0.7520253678643635\n",
      "Epoch 5/20\n",
      "6516/6516 [==============================] - 3475s 532ms/step - loss: 0.1511 - val_loss: 0.1544\n",
      "\n",
      "Epoch 00005: val_loss improved from 0.16612 to 0.15439, saving model to ./experiments/1\\weights.h5\n",
      "\n",
      "*********************************\n",
      "current learning rate: 0.00010000000474974513\n"
     ]
    },
    {
     "name": "stderr",
     "output_type": "stream",
     "text": [
      "C:\\Users\\Vignesh\\Anaconda3\\lib\\site-packages\\tensorflow\\python\\keras\\engine\\training.py:1905: UserWarning: `Model.predict_generator` is deprecated and will be removed in a future version. Please use `Model.predict`, which supports generators.\n",
      "  warnings.warn('`Model.predict_generator` is deprecated and '\n"
     ]
    },
    {
     "name": "stdout",
     "output_type": "stream",
     "text": [
      "*** epoch#5 dev auroc ***\n",
      "1. Atelectasis: 0.7873219628447953\n",
      "2. Cardiomegaly: 0.8782564675305696\n",
      "3. Effusion: 0.8712216733798415\n",
      "4. Infiltration: 0.6929356321224833\n",
      "5. Mass: 0.8116174576800222\n",
      "6. Nodule: 0.6905661036420655\n",
      "7. Pneumonia: 0.7461293983649705\n",
      "8. Pneumothorax: 0.8423384478399039\n",
      "9. Consolidation: 0.7873542095118385\n",
      "10. Edema: 0.8851257115749526\n",
      "11. Emphysema: 0.8749830517951119\n",
      "12. Fibrosis: 0.7361159394698554\n",
      "13. Pleural_Thickening: 0.7686542375756206\n",
      "14. Hernia: 0.7969414122238042\n",
      "*********************************\n",
      "mean auroc: 0.797825836111131\n",
      "update best auroc from 0.7628093166143642 to 0.797825836111131\n",
      "update log file: ./experiments/1\\best_auroc.log\n",
      "update model file: ./experiments/1\\weights.h5 -> ./experiments/1\\best_weights.h5\n",
      "*********************************\n",
      "Epoch 6/20\n",
      "6516/6516 [==============================] - 3488s 534ms/step - loss: 0.1498 - val_loss: 0.1570\n",
      "\n",
      "Epoch 00006: val_loss did not improve from 0.15439\n",
      "\n",
      "Epoch 00006: ReduceLROnPlateau reducing learning rate to 1.0000000474974514e-05.\n",
      "\n",
      "*********************************\n",
      "current learning rate: 1.0000000656873453e-05\n"
     ]
    },
    {
     "name": "stderr",
     "output_type": "stream",
     "text": [
      "C:\\Users\\Vignesh\\Anaconda3\\lib\\site-packages\\tensorflow\\python\\keras\\engine\\training.py:1905: UserWarning: `Model.predict_generator` is deprecated and will be removed in a future version. Please use `Model.predict`, which supports generators.\n",
      "  warnings.warn('`Model.predict_generator` is deprecated and '\n"
     ]
    },
    {
     "name": "stdout",
     "output_type": "stream",
     "text": [
      "*** epoch#6 dev auroc ***\n",
      "1. Atelectasis: 0.7909293874097132\n",
      "2. Cardiomegaly: 0.8808774026543361\n",
      "3. Effusion: 0.8723195870167743\n",
      "4. Infiltration: 0.6930790837797759\n",
      "5. Mass: 0.8133028740390745\n",
      "6. Nodule: 0.6963853937032323\n",
      "7. Pneumonia: 0.7413286991986696\n",
      "8. Pneumothorax: 0.8327881029919618\n",
      "9. Consolidation: 0.796212323136533\n",
      "10. Edema: 0.8813851992409868\n",
      "11. Emphysema: 0.8683938692926483\n",
      "12. Fibrosis: 0.7362042294583225\n",
      "13. Pleural_Thickening: 0.7625710267428054\n",
      "14. Hernia: 0.825576121921637\n",
      "*********************************\n",
      "mean auroc: 0.7993823786133195\n",
      "update best auroc from 0.797825836111131 to 0.7993823786133195\n",
      "update log file: ./experiments/1\\best_auroc.log\n",
      "update model file: ./experiments/1\\weights.h5 -> ./experiments/1\\best_weights.h5\n",
      "*********************************\n",
      "Epoch 7/20\n",
      "6516/6516 [==============================] - 3533s 542ms/step - loss: 0.1489 - val_loss: 0.1583\n",
      "\n",
      "Epoch 00007: val_loss did not improve from 0.15439\n",
      "\n",
      "Epoch 00007: ReduceLROnPlateau reducing learning rate to 1.0000000656873453e-06.\n",
      "\n",
      "*********************************\n",
      "current learning rate: 1.0000001111620804e-06\n"
     ]
    },
    {
     "name": "stderr",
     "output_type": "stream",
     "text": [
      "C:\\Users\\Vignesh\\Anaconda3\\lib\\site-packages\\tensorflow\\python\\keras\\engine\\training.py:1905: UserWarning: `Model.predict_generator` is deprecated and will be removed in a future version. Please use `Model.predict`, which supports generators.\n",
      "  warnings.warn('`Model.predict_generator` is deprecated and '\n"
     ]
    },
    {
     "name": "stdout",
     "output_type": "stream",
     "text": [
      "*** epoch#7 dev auroc ***\n",
      "1. Atelectasis: 0.7911101768822613\n",
      "2. Cardiomegaly: 0.8845243749054074\n",
      "3. Effusion: 0.8719605628355326\n",
      "4. Infiltration: 0.6975771866775327\n",
      "5. Mass: 0.8160172027415233\n",
      "6. Nodule: 0.6937020678734436\n",
      "7. Pneumonia: 0.7483304774601813\n",
      "8. Pneumothorax: 0.8416878609588838\n",
      "9. Consolidation: 0.7965585448587197\n",
      "10. Edema: 0.8826909392789374\n",
      "11. Emphysema: 0.8625189575281479\n",
      "12. Fibrosis: 0.7436555366099955\n",
      "13. Pleural_Thickening: 0.7659686492904393\n",
      "14. Hernia: 0.8044191319938828\n",
      "*********************************\n",
      "mean auroc: 0.800051547849635\n",
      "update best auroc from 0.7993823786133195 to 0.800051547849635\n",
      "update log file: ./experiments/1\\best_auroc.log\n",
      "update model file: ./experiments/1\\weights.h5 -> ./experiments/1\\best_weights.h5\n",
      "*********************************\n",
      "Epoch 8/20\n",
      "6516/6516 [==============================] - 3526s 540ms/step - loss: 0.1485 - val_loss: 0.1605\n",
      "\n",
      "Epoch 00008: val_loss did not improve from 0.15439\n",
      "\n",
      "Epoch 00008: ReduceLROnPlateau reducing learning rate to 1.0000001111620805e-07.\n",
      "\n",
      "*********************************\n",
      "current learning rate: 1.000000082740371e-07\n"
     ]
    },
    {
     "name": "stderr",
     "output_type": "stream",
     "text": [
      "C:\\Users\\Vignesh\\Anaconda3\\lib\\site-packages\\tensorflow\\python\\keras\\engine\\training.py:1905: UserWarning: `Model.predict_generator` is deprecated and will be removed in a future version. Please use `Model.predict`, which supports generators.\n",
      "  warnings.warn('`Model.predict_generator` is deprecated and '\n"
     ]
    },
    {
     "name": "stdout",
     "output_type": "stream",
     "text": [
      "*** epoch#8 dev auroc ***\n",
      "1. Atelectasis: 0.793479868147809\n",
      "2. Cardiomegaly: 0.8822082239537397\n",
      "3. Effusion: 0.8725867649849278\n",
      "4. Infiltration: 0.696419720511416\n",
      "5. Mass: 0.8189455377351966\n",
      "6. Nodule: 0.6998769677399324\n",
      "7. Pneumonia: 0.736503723424701\n",
      "8. Pneumothorax: 0.8378249244876474\n",
      "9. Consolidation: 0.7944789699763481\n",
      "10. Edema: 0.8820208728652752\n",
      "11. Emphysema: 0.8578796922066214\n",
      "12. Fibrosis: 0.7420111355747955\n",
      "13. Pleural_Thickening: 0.7629279272912308\n",
      "14. Hernia: 0.7901597848441702\n",
      "*********************************\n",
      "mean auroc: 0.7976660081245581\n",
      "Epoch 9/20\n",
      "6516/6516 [==============================] - 3567s 547ms/step - loss: 0.1475 - val_loss: 0.1605\n",
      "\n",
      "Epoch 00009: val_loss did not improve from 0.15439\n",
      "\n",
      "Epoch 00009: ReduceLROnPlateau reducing learning rate to 1.000000082740371e-08.\n",
      "\n",
      "*********************************\n",
      "current learning rate: 1.000000082740371e-08\n"
     ]
    },
    {
     "name": "stderr",
     "output_type": "stream",
     "text": [
      "C:\\Users\\Vignesh\\Anaconda3\\lib\\site-packages\\tensorflow\\python\\keras\\engine\\training.py:1905: UserWarning: `Model.predict_generator` is deprecated and will be removed in a future version. Please use `Model.predict`, which supports generators.\n",
      "  warnings.warn('`Model.predict_generator` is deprecated and '\n"
     ]
    },
    {
     "name": "stdout",
     "output_type": "stream",
     "text": [
      "*** epoch#9 dev auroc ***\n",
      "1. Atelectasis: 0.7914445024889584\n",
      "2. Cardiomegaly: 0.8795100490055372\n",
      "3. Effusion: 0.8718742904031856\n",
      "4. Infiltration: 0.69676691026172\n",
      "5. Mass: 0.81910861239816\n",
      "6. Nodule: 0.700751923106778\n",
      "7. Pneumonia: 0.7408027060325346\n",
      "8. Pneumothorax: 0.8334479136945464\n",
      "9. Consolidation: 0.7970759134614037\n",
      "10. Edema: 0.8829257590132827\n",
      "11. Emphysema: 0.8501121726550325\n",
      "12. Fibrosis: 0.7382220235697483\n",
      "13. Pleural_Thickening: 0.7663304086334597\n",
      "14. Hernia: 0.7982597690238887\n",
      "*********************************\n",
      "mean auroc: 0.7976166395534453\n",
      "Epoch 10/20\n",
      "6516/6516 [==============================] - 3566s 546ms/step - loss: 0.1484 - val_loss: 0.1617\n",
      "\n",
      "Epoch 00010: val_loss did not improve from 0.15439\n",
      "\n",
      "Epoch 00010: ReduceLROnPlateau reducing learning rate to 1e-08.\n",
      "\n",
      "*********************************\n",
      "current learning rate: 9.99999993922529e-09\n"
     ]
    },
    {
     "name": "stderr",
     "output_type": "stream",
     "text": [
      "C:\\Users\\Vignesh\\Anaconda3\\lib\\site-packages\\tensorflow\\python\\keras\\engine\\training.py:1905: UserWarning: `Model.predict_generator` is deprecated and will be removed in a future version. Please use `Model.predict`, which supports generators.\n",
      "  warnings.warn('`Model.predict_generator` is deprecated and '\n"
     ]
    },
    {
     "name": "stdout",
     "output_type": "stream",
     "text": [
      "*** epoch#10 dev auroc ***\n",
      "1. Atelectasis: 0.7913468222067757\n",
      "2. Cardiomegaly: 0.8844106027315759\n",
      "3. Effusion: 0.871574760272902\n",
      "4. Infiltration: 0.696915705868993\n",
      "5. Mass: 0.8196389554997748\n",
      "6. Nodule: 0.7011034091967584\n",
      "7. Pneumonia: 0.7393805014333314\n",
      "8. Pneumothorax: 0.8333839618650322\n",
      "9. Consolidation: 0.7965215097960545\n",
      "10. Edema: 0.8830846774193548\n",
      "11. Emphysema: 0.8547961672595626\n",
      "12. Fibrosis: 0.7287253316852536\n",
      "13. Pleural_Thickening: 0.7654924874201391\n",
      "14. Hernia: 0.8164425460106524\n",
      "*********************************\n",
      "mean auroc: 0.7987726741904401\n",
      "Epoch 11/20\n",
      "6516/6516 [==============================] - 3506s 537ms/step - loss: 0.1478 - val_loss: 0.1582\n",
      "\n",
      "Epoch 00011: val_loss did not improve from 0.15439\n",
      "\n",
      "*********************************\n",
      "current learning rate: 9.99999993922529e-09\n"
     ]
    },
    {
     "name": "stderr",
     "output_type": "stream",
     "text": [
      "C:\\Users\\Vignesh\\Anaconda3\\lib\\site-packages\\tensorflow\\python\\keras\\engine\\training.py:1905: UserWarning: `Model.predict_generator` is deprecated and will be removed in a future version. Please use `Model.predict`, which supports generators.\n",
      "  warnings.warn('`Model.predict_generator` is deprecated and '\n"
     ]
    },
    {
     "name": "stdout",
     "output_type": "stream",
     "text": [
      "*** epoch#11 dev auroc ***\n",
      "1. Atelectasis: 0.7916563229903767\n",
      "2. Cardiomegaly: 0.8786457979969835\n",
      "3. Effusion: 0.8724527519088381\n",
      "4. Infiltration: 0.6989881564708553\n",
      "5. Mass: 0.8206870256116001\n",
      "6. Nodule: 0.7023087469338964\n",
      "7. Pneumonia: 0.7482090944218424\n",
      "8. Pneumothorax: 0.8412291295664067\n",
      "9. Consolidation: 0.7952718569997672\n",
      "10. Edema: 0.8821287950664137\n",
      "11. Emphysema: 0.8580082888952566\n",
      "12. Fibrosis: 0.7435102260039768\n",
      "13. Pleural_Thickening: 0.7651709235596765\n",
      "14. Hernia: 0.7940199335548174\n",
      "*********************************\n",
      "mean auroc: 0.799449074998622\n",
      "Epoch 12/20\n",
      "6516/6516 [==============================] - 3897s 597ms/step - loss: 0.1483 - val_loss: 0.1597\n",
      "\n",
      "Epoch 00012: val_loss did not improve from 0.15439\n",
      "\n",
      "*********************************\n",
      "current learning rate: 9.99999993922529e-09\n"
     ]
    },
    {
     "name": "stderr",
     "output_type": "stream",
     "text": [
      "C:\\Users\\Vignesh\\Anaconda3\\lib\\site-packages\\tensorflow\\python\\keras\\engine\\training.py:1905: UserWarning: `Model.predict_generator` is deprecated and will be removed in a future version. Please use `Model.predict`, which supports generators.\n",
      "  warnings.warn('`Model.predict_generator` is deprecated and '\n"
     ]
    },
    {
     "name": "stdout",
     "output_type": "stream",
     "text": [
      "*** epoch#12 dev auroc ***\n",
      "1. Atelectasis: 0.7922812609283187\n",
      "2. Cardiomegaly: 0.8758954339782163\n",
      "3. Effusion: 0.8722659090848506\n",
      "4. Infiltration: 0.6985586364911626\n",
      "5. Mass: 0.8225266386433683\n",
      "6. Nodule: 0.7035024412394821\n",
      "7. Pneumonia: 0.7413286991986696\n",
      "8. Pneumothorax: 0.8403227353673295\n",
      "9. Consolidation: 0.79457324104495\n",
      "10. Edema: 0.8843868595825427\n",
      "11. Emphysema: 0.8598645541399048\n",
      "12. Fibrosis: 0.7373446418093561\n",
      "13. Pleural_Thickening: 0.7666294453553457\n",
      "14. Hernia: 0.8013394505088857\n",
      "*********************************\n",
      "mean auroc: 0.7993442819551702\n",
      "Epoch 13/20\n",
      "6516/6516 [==============================] - 3914s 599ms/step - loss: 0.1492 - val_loss: 0.1613\n",
      "\n",
      "Epoch 00013: val_loss did not improve from 0.15439\n",
      "\n",
      "*********************************\n",
      "current learning rate: 9.99999993922529e-09\n"
     ]
    },
    {
     "name": "stderr",
     "output_type": "stream",
     "text": [
      "C:\\Users\\Vignesh\\Anaconda3\\lib\\site-packages\\tensorflow\\python\\keras\\engine\\training.py:1905: UserWarning: `Model.predict_generator` is deprecated and will be removed in a future version. Please use `Model.predict`, which supports generators.\n",
      "  warnings.warn('`Model.predict_generator` is deprecated and '\n"
     ]
    },
    {
     "name": "stdout",
     "output_type": "stream",
     "text": [
      "*** epoch#13 dev auroc ***\n",
      "1. Atelectasis: 0.7915931815925016\n",
      "2. Cardiomegaly: 0.8852028328227503\n",
      "3. Effusion: 0.8718190372723565\n",
      "4. Infiltration: 0.6967353475571468\n",
      "5. Mass: 0.8199721137653706\n",
      "6. Nodule: 0.7037884330269818\n",
      "7. Pneumonia: 0.745864378731264\n",
      "8. Pneumothorax: 0.8401296500359113\n",
      "9. Consolidation: 0.7940564335795791\n",
      "10. Edema: 0.884181688804554\n",
      "11. Emphysema: 0.857045211520586\n",
      "12. Fibrosis: 0.7341422903526634\n",
      "13. Pleural_Thickening: 0.7632927785944479\n",
      "14. Hernia: 0.8268206507409166\n",
      "*********************************\n",
      "mean auroc: 0.8010460020283592\n",
      "update best auroc from 0.800051547849635 to 0.8010460020283592\n",
      "update log file: ./experiments/1\\best_auroc.log\n",
      "update model file: ./experiments/1\\weights.h5 -> ./experiments/1\\best_weights.h5\n",
      "*********************************\n",
      "Epoch 14/20\n",
      "6516/6516 [==============================] - 3553s 544ms/step - loss: 0.1486 - val_loss: 0.1596\n",
      "\n",
      "Epoch 00014: val_loss did not improve from 0.15439\n",
      "\n",
      "*********************************\n",
      "current learning rate: 9.99999993922529e-09\n"
     ]
    },
    {
     "name": "stderr",
     "output_type": "stream",
     "text": [
      "C:\\Users\\Vignesh\\Anaconda3\\lib\\site-packages\\tensorflow\\python\\keras\\engine\\training.py:1905: UserWarning: `Model.predict_generator` is deprecated and will be removed in a future version. Please use `Model.predict`, which supports generators.\n",
      "  warnings.warn('`Model.predict_generator` is deprecated and '\n"
     ]
    },
    {
     "name": "stdout",
     "output_type": "stream",
     "text": [
      "*** epoch#14 dev auroc ***\n",
      "1. Atelectasis: 0.7921932947073478\n",
      "2. Cardiomegaly: 0.8785643830469025\n",
      "3. Effusion: 0.872876601583487\n",
      "4. Infiltration: 0.6967124687712923\n",
      "5. Mass: 0.8196450299141546\n",
      "6. Nodule: 0.7020111117148445\n",
      "7. Pneumonia: 0.7462123434411687\n",
      "8. Pneumothorax: 0.8437656804966597\n",
      "9. Consolidation: 0.7963728084080816\n",
      "10. Edema: 0.879784155597723\n",
      "11. Emphysema: 0.8597792889441791\n",
      "12. Fibrosis: 0.7408210601052491\n",
      "13. Pleural_Thickening: 0.7662972804884944\n",
      "14. Hernia: 0.818045667879555\n",
      "*********************************\n",
      "mean auroc: 0.8009343696499386\n",
      "Epoch 15/20\n",
      "6516/6516 [==============================] - 3513s 538ms/step - loss: 0.1481 - val_loss: 0.1601\n",
      "\n",
      "Epoch 00015: val_loss did not improve from 0.15439\n",
      "\n",
      "*********************************\n",
      "current learning rate: 9.99999993922529e-09\n"
     ]
    },
    {
     "name": "stderr",
     "output_type": "stream",
     "text": [
      "C:\\Users\\Vignesh\\Anaconda3\\lib\\site-packages\\tensorflow\\python\\keras\\engine\\training.py:1905: UserWarning: `Model.predict_generator` is deprecated and will be removed in a future version. Please use `Model.predict`, which supports generators.\n",
      "  warnings.warn('`Model.predict_generator` is deprecated and '\n"
     ]
    },
    {
     "name": "stdout",
     "output_type": "stream",
     "text": [
      "*** epoch#15 dev auroc ***\n",
      "1. Atelectasis: 0.7919458559814871\n",
      "2. Cardiomegaly: 0.8825537156008788\n",
      "3. Effusion: 0.8717974691642697\n",
      "4. Infiltration: 0.6977233938090339\n",
      "5. Mass: 0.8216631372761578\n",
      "6. Nodule: 0.7050631462104512\n",
      "7. Pneumonia: 0.7467221522021917\n",
      "8. Pneumothorax: 0.8399740749121893\n",
      "9. Consolidation: 0.7975169673895051\n",
      "10. Edema: 0.8823564990512335\n",
      "11. Emphysema: 0.8580795761900436\n",
      "12. Fibrosis: 0.7368884768689428\n",
      "13. Pleural_Thickening: 0.769327401481314\n",
      "14. Hernia: 0.7951062595580869\n",
      "*********************************\n",
      "mean auroc: 0.7997655804068419\n",
      "Epoch 16/20\n",
      "6516/6516 [==============================] - 3525s 540ms/step - loss: 0.1475 - val_loss: 0.1639\n",
      "\n",
      "Epoch 00016: val_loss did not improve from 0.15439\n",
      "\n",
      "*********************************\n",
      "current learning rate: 9.99999993922529e-09\n"
     ]
    },
    {
     "name": "stderr",
     "output_type": "stream",
     "text": [
      "C:\\Users\\Vignesh\\Anaconda3\\lib\\site-packages\\tensorflow\\python\\keras\\engine\\training.py:1905: UserWarning: `Model.predict_generator` is deprecated and will be removed in a future version. Please use `Model.predict`, which supports generators.\n",
      "  warnings.warn('`Model.predict_generator` is deprecated and '\n"
     ]
    },
    {
     "name": "stdout",
     "output_type": "stream",
     "text": [
      "*** epoch#16 dev auroc ***\n",
      "1. Atelectasis: 0.7911984129382661\n",
      "2. Cardiomegaly: 0.8783765023928688\n",
      "3. Effusion: 0.8725353892667885\n",
      "4. Infiltration: 0.6955865653097487\n",
      "5. Mass: 0.8158849674131032\n",
      "6. Nodule: 0.6998696905952121\n",
      "7. Pneumonia: 0.7365745301970654\n",
      "8. Pneumothorax: 0.8298696858489361\n",
      "9. Consolidation: 0.7947746893403551\n",
      "10. Edema: 0.881399430740038\n",
      "11. Emphysema: 0.8521193992298176\n",
      "12. Fibrosis: 0.7347253721514982\n",
      "13. Pleural_Thickening: 0.7578032241194098\n",
      "14. Hernia: 0.7832726889205295\n",
      "*********************************\n",
      "mean auroc: 0.7945707534616885\n",
      "Epoch 17/20\n",
      "6516/6516 [==============================] - 3493s 535ms/step - loss: 0.1480 - val_loss: 0.1593\n",
      "\n",
      "Epoch 00017: val_loss did not improve from 0.15439\n",
      "\n",
      "*********************************\n",
      "current learning rate: 9.99999993922529e-09\n"
     ]
    },
    {
     "name": "stderr",
     "output_type": "stream",
     "text": [
      "C:\\Users\\Vignesh\\Anaconda3\\lib\\site-packages\\tensorflow\\python\\keras\\engine\\training.py:1905: UserWarning: `Model.predict_generator` is deprecated and will be removed in a future version. Please use `Model.predict`, which supports generators.\n",
      "  warnings.warn('`Model.predict_generator` is deprecated and '\n"
     ]
    },
    {
     "name": "stdout",
     "output_type": "stream",
     "text": [
      "*** epoch#17 dev auroc ***\n",
      "1. Atelectasis: 0.7913951226777997\n",
      "2. Cardiomegaly: 0.8770519437819332\n",
      "3. Effusion: 0.8721260798897266\n",
      "4. Infiltration: 0.6973021402519672\n",
      "5. Mass: 0.8190539426687424\n",
      "6. Nodule: 0.6984991616729282\n",
      "7. Pneumonia: 0.7471995921529911\n",
      "8. Pneumothorax: 0.8416804819016322\n",
      "9. Consolidation: 0.7979720497504343\n",
      "10. Edema: 0.8803830645161289\n",
      "11. Emphysema: 0.8563840568061895\n",
      "12. Fibrosis: 0.7407640394876974\n",
      "13. Pleural_Thickening: 0.7659023930005088\n",
      "14. Hernia: 0.7964140695037705\n",
      "*********************************\n",
      "mean auroc: 0.7987234384330322\n",
      "Epoch 18/20\n",
      "6516/6516 [==============================] - 3495s 535ms/step - loss: 0.1481 - val_loss: 0.1591\n",
      "\n",
      "Epoch 00018: val_loss did not improve from 0.15439\n",
      "\n",
      "*********************************\n",
      "current learning rate: 9.99999993922529e-09\n"
     ]
    },
    {
     "name": "stderr",
     "output_type": "stream",
     "text": [
      "C:\\Users\\Vignesh\\Anaconda3\\lib\\site-packages\\tensorflow\\python\\keras\\engine\\training.py:1905: UserWarning: `Model.predict_generator` is deprecated and will be removed in a future version. Please use `Model.predict`, which supports generators.\n",
      "  warnings.warn('`Model.predict_generator` is deprecated and '\n"
     ]
    },
    {
     "name": "stdout",
     "output_type": "stream",
     "text": [
      "*** epoch#18 dev auroc ***\n",
      "1. Atelectasis: 0.7923900044468813\n",
      "2. Cardiomegaly: 0.8821727353857554\n",
      "3. Effusion: 0.8717210114327936\n",
      "4. Infiltration: 0.6968632683598082\n",
      "5. Mass: 0.8180180213856767\n",
      "6. Nodule: 0.7026041990095321\n",
      "7. Pneumonia: 0.7442742609290254\n",
      "8. Pneumothorax: 0.8421521266443\n",
      "9. Consolidation: 0.7965877239990014\n",
      "10. Edema: 0.8833040796963946\n",
      "11. Emphysema: 0.8606291453212471\n",
      "12. Fibrosis: 0.7368829587446636\n",
      "13. Pleural_Thickening: 0.7683494586419403\n",
      "14. Hernia: 0.7918050941306755\n",
      "*********************************\n",
      "mean auroc: 0.7991252920091211\n",
      "Epoch 19/20\n",
      "6516/6516 [==============================] - 3499s 536ms/step - loss: 0.1481 - val_loss: 0.1668\n",
      "\n",
      "Epoch 00019: val_loss did not improve from 0.15439\n",
      "\n",
      "*********************************\n",
      "current learning rate: 9.99999993922529e-09\n"
     ]
    },
    {
     "name": "stderr",
     "output_type": "stream",
     "text": [
      "C:\\Users\\Vignesh\\Anaconda3\\lib\\site-packages\\tensorflow\\python\\keras\\engine\\training.py:1905: UserWarning: `Model.predict_generator` is deprecated and will be removed in a future version. Please use `Model.predict`, which supports generators.\n",
      "  warnings.warn('`Model.predict_generator` is deprecated and '\n"
     ]
    },
    {
     "name": "stdout",
     "output_type": "stream",
     "text": [
      "*** epoch#19 dev auroc ***\n",
      "1. Atelectasis: 0.790125818679492\n",
      "2. Cardiomegaly: 0.8714979828924228\n",
      "3. Effusion: 0.8711007465715794\n",
      "4. Infiltration: 0.6982293155736063\n",
      "5. Mass: 0.8214042737710524\n",
      "6. Nodule: 0.7016724819138696\n",
      "7. Pneumonia: 0.7448498188358152\n",
      "8. Pneumothorax: 0.8360539507472525\n",
      "9. Consolidation: 0.7968329410048286\n",
      "10. Edema: 0.8820173149905123\n",
      "11. Emphysema: 0.8565517916174529\n",
      "12. Fibrosis: 0.734350139700513\n",
      "13. Pleural_Thickening: 0.7630604398710918\n",
      "14. Hernia: 0.7800137109107209\n",
      "*********************************\n",
      "mean auroc: 0.7962686233628721\n",
      "Epoch 20/20\n",
      "6516/6516 [==============================] - 3490s 535ms/step - loss: 0.1476 - val_loss: 0.1621\n",
      "\n",
      "Epoch 00020: val_loss did not improve from 0.15439\n",
      "\n",
      "*********************************\n",
      "current learning rate: 9.99999993922529e-09\n"
     ]
    },
    {
     "name": "stderr",
     "output_type": "stream",
     "text": [
      "C:\\Users\\Vignesh\\Anaconda3\\lib\\site-packages\\tensorflow\\python\\keras\\engine\\training.py:1905: UserWarning: `Model.predict_generator` is deprecated and will be removed in a future version. Please use `Model.predict`, which supports generators.\n",
      "  warnings.warn('`Model.predict_generator` is deprecated and '\n"
     ]
    },
    {
     "name": "stdout",
     "output_type": "stream",
     "text": [
      "*** epoch#20 dev auroc ***\n",
      "1. Atelectasis: 0.7919110472621459\n",
      "2. Cardiomegaly: 0.8821602100088201\n",
      "3. Effusion: 0.8719125798534968\n",
      "4. Infiltration: 0.6974642957341919\n",
      "5. Mass: 0.818169180851203\n",
      "6. Nodule: 0.6990398535256311\n",
      "7. Pneumonia: 0.7472703989253554\n",
      "8. Pneumothorax: 0.8381096331132735\n",
      "9. Consolidation: 0.7964025486856762\n",
      "10. Edema: 0.8839373814041745\n",
      "11. Emphysema: 0.8559745043086879\n",
      "12. Fibrosis: 0.7376242267728353\n",
      "13. Pleural_Thickening: 0.7585249759710523\n",
      "14. Hernia: 0.8161050466698307\n",
      "*********************************\n",
      "mean auroc: 0.799614705934741\n",
      "** dump history **\n",
      "** done! **\n"
     ]
    }
   ],
   "source": [
    "    show_model_summary = cp[\"TRAIN\"].getboolean(\"show_model_summary\")\n",
    "    # end parser config\n",
    "\n",
    "    # check output_dir, create it if not exists\n",
    "    if not os.path.isdir(output_dir):\n",
    "        os.makedirs(output_dir)\n",
    "\n",
    "    running_flag_file = os.path.join(output_dir, \".training.lock\")\n",
    "    if os.path.isfile(running_flag_file):\n",
    "        raise RuntimeError(\"A process is running in this directory!!!\")\n",
    "    else:\n",
    "        open(running_flag_file, \"a\").close()\n",
    "\n",
    "    try:\n",
    "        print(f\"backup config file to {output_dir}\")\n",
    "        shutil.copy(config_file, os.path.join(output_dir, os.path.split(config_file)[1]))\n",
    "\n",
    "        datasets = [\"train\", \"dev\", \"test\"]\n",
    "        for dataset in datasets:\n",
    "            shutil.copy(os.path.join(dataset_csv_dir, f\"{dataset}.csv\"), output_dir)\n",
    "\n",
    "        # get train/dev sample counts\n",
    "        train_counts, train_pos_counts = get_sample_counts(output_dir, \"train\", class_names)\n",
    "        dev_counts, _ = get_sample_counts(output_dir, \"dev\", class_names)\n",
    "        \n",
    "                # compute steps\n",
    "        if train_steps == \"auto\":\n",
    "            train_steps = int(train_counts / batch_size)\n",
    "        else:\n",
    "            try:\n",
    "                train_steps = int(train_steps)\n",
    "            except ValueError:\n",
    "                raise ValueError(f\"\"\"\n",
    "                train_steps: {train_steps} is invalid,\n",
    "                please use 'auto' or integer.\n",
    "                \"\"\")\n",
    "        print(f\"** train_steps: {train_steps} **\")\n",
    "\n",
    "        if validation_steps == \"auto\":\n",
    "            validation_steps = int(dev_counts / batch_size)\n",
    "        else:\n",
    "            try:\n",
    "                validation_steps = int(validation_steps)\n",
    "            except ValueError:\n",
    "                raise ValueError(f\"\"\"\n",
    "                validation_steps: {validation_steps} is invalid,\n",
    "                please use 'auto' or integer.\n",
    "                \"\"\")\n",
    "        print(f\"** validation_steps: {validation_steps} **\")\n",
    "\n",
    "        # compute class weights\n",
    "        print(\"** compute class weights **\")\n",
    "        class_weights = get_class_weights(\n",
    "            train_counts,\n",
    "            train_pos_counts,\n",
    "            multiply=positive_weights_multiply,\n",
    "        )\n",
    "        print(\"** class_weights **\")\n",
    "        print(class_weights)\n",
    "\n",
    "        print(\"** load model **\")\n",
    "        if use_trained_model_weights:\n",
    "            if use_best_weights:\n",
    "                model_weights_file = os.path.join(output_dir, f\"best_{output_weights_name}\")\n",
    "            else:\n",
    "                model_weights_file = os.path.join(output_dir, output_weights_name)\n",
    "        else:\n",
    "            model_weights_file = None\n",
    "\n",
    "        model_factory = ModelFactory()\n",
    "        model = model_factory.get_model(\n",
    "            class_names,\n",
    "            model_name=base_model_name,\n",
    "            use_base_weights=use_base_model_weights,\n",
    "            weights_path=model_weights_file,\n",
    "            input_shape=(image_dimension, image_dimension, 3))\n",
    "\n",
    "        #if show_model_summary:\n",
    "            #print(model.summary())\n",
    "\n",
    "        print(\"** create image generators **\")\n",
    "        train_sequence = AugmentedImageSequence(\n",
    "            dataset_csv_file=os.path.join(output_dir, \"train.csv\"),\n",
    "            class_names=class_names,\n",
    "            source_image_dir=image_source_dir,\n",
    "            batch_size=batch_size,\n",
    "            target_size=(image_dimension, image_dimension),\n",
    "            augmenter=augmenter,\n",
    "            steps=train_steps,\n",
    "        )\n",
    "        validation_sequence = AugmentedImageSequence(\n",
    "            dataset_csv_file=os.path.join(output_dir, \"dev.csv\"),\n",
    "            class_names=class_names,\n",
    "            source_image_dir=image_source_dir,\n",
    "            batch_size=batch_size,\n",
    "            target_size=(image_dimension, image_dimension),\n",
    "            augmenter=augmenter,\n",
    "            steps=validation_steps,\n",
    "            shuffle_on_epoch_end=False,\n",
    "        )\n",
    "\n",
    "        output_weights_path = os.path.join(output_dir, output_weights_name)\n",
    "        print(f\"** set output weights path to: {output_weights_path} **\")\n",
    "\n",
    "        \n",
    "        gpus = len(os.getenv(\"CUDA_VISIBLE_DEVICES\", \"1\").split(\",\"))\n",
    "        if gpus > 1:\n",
    "            print(f\"** multi_gpu_model is used! gpus={gpus} **\")\n",
    "            model_train = multi_gpu_model(model, gpus)\n",
    "            # FIXME: currently (Keras 2.1.2) checkpoint doesn't work with multi_gpu_model\n",
    "            checkpoint = MultiGPUModelCheckpoint(\n",
    "                filepath=output_weights_path,\n",
    "                base_model=model,\n",
    "            )\n",
    "        else:\n",
    "            model_train = model\n",
    "            checkpoint = ModelCheckpoint(\n",
    "                 output_weights_path,\n",
    "                 save_weights_only=True,\n",
    "                 save_best_only=True,\n",
    "                 verbose=1,\n",
    "            )\n",
    "\n",
    "        print(\"** compile model  **\")\n",
    "        optimizer = Adam(lr=initial_learning_rate)\n",
    "        model_train.compile(optimizer=optimizer, loss=\"binary_crossentropy\")\n",
    "        auroc = MultipleClassAUROC(\n",
    "            sequence=validation_sequence,\n",
    "            class_names=class_names,\n",
    "            weights_path=output_weights_path,\n",
    "            stats=training_stats,\n",
    "            workers=generator_workers,\n",
    "        )\n",
    "        callbacks = [\n",
    "            checkpoint,\n",
    "            TensorBoard(log_dir=os.path.join(output_dir, \"logs\"), batch_size=batch_size),\n",
    "            ReduceLROnPlateau(monitor='val_loss', factor=0.1, patience=patience_reduce_lr,\n",
    "                              verbose=1, mode=\"min\", min_lr=min_lr),\n",
    "            auroc,\n",
    "        ]\n",
    "\n",
    "        print(\"** start training **\")\n",
    "        history = model_train.fit_generator(\n",
    "            generator=train_sequence,\n",
    "            steps_per_epoch=train_steps,\n",
    "            epochs=epochs,\n",
    "            validation_data=validation_sequence,\n",
    "            validation_steps=validation_steps,\n",
    "            callbacks=callbacks,\n",
    "            class_weight=class_weights,\n",
    "            workers=generator_workers,\n",
    "            shuffle=False,\n",
    "        )\n",
    "\n",
    "        # dump history\n",
    "        print(\"** dump history **\")\n",
    "        with open(os.path.join(output_dir, \"history.pkl\"), \"wb\") as f:\n",
    "            pickle.dump({\n",
    "                \"history\": history.history,\n",
    "                \"auroc\": auroc.aurocs,\n",
    "            }, f)\n",
    "        print(\"** done! **\")\n",
    "        \n",
    "    finally:\n",
    "        os.remove(running_flag_file)\n",
    "\n",
    "\n"
   ]
  },
  {
   "cell_type": "code",
   "execution_count": 59,
   "id": "d6cf4518",
   "metadata": {},
   "outputs": [],
   "source": [
    "# test config\n",
    "batch_size = cp[\"TEST\"].getint(\"batch_size\")\n",
    "test_steps = cp[\"TEST\"].get(\"test_steps\")\n",
    "use_best_weights = cp[\"TEST\"].getboolean(\"use_best_weights\")\n",
    "\n",
    "# default config\n",
    "output_dir = cp[\"DEFAULT\"].get(\"output_dir\")\n",
    "base_model_name = cp[\"DEFAULT\"].get(\"base_model_name\")\n",
    "class_names = cp[\"DEFAULT\"].get(\"class_names\").split(\",\")\n",
    "image_source_dir = cp[\"DEFAULT\"].get(\"image_source_dir\")\n",
    "\n",
    "# parse weights file path\n",
    "#output_weights_name = cp[\"TRAIN\"].get(\"output_weights_name\")\n",
    "output_weights_name = \"best_weights1.h5\"\n",
    "weights_path = os.path.join(output_dir, output_weights_name)\n",
    "best_weights_path = os.path.join(output_dir, f\"best_{output_weights_name}\")"
   ]
  },
  {
   "cell_type": "code",
   "execution_count": 50,
   "id": "65b92f50",
   "metadata": {},
   "outputs": [
    {
     "name": "stdout",
     "output_type": "stream",
     "text": [
      "** test_steps: 47 **\n"
     ]
    }
   ],
   "source": [
    "# get test sample count\n",
    "test_counts, _ = get_sample_counts(output_dir, \"test\", class_names)\n",
    "\n",
    "# compute steps\n",
    "if test_steps == \"auto\":\n",
    "    test_steps = int(test_counts / batch_size)\n",
    "else:\n",
    "    try:\n",
    "        test_steps = int(test_steps)\n",
    "    except ValueError:\n",
    "        raise ValueError(f\"\"\"\n",
    "            test_steps: {test_steps} is invalid,\n",
    "            please use 'auto' or integer.S\n",
    "            \"\"\")\n",
    "print(f\"** test_steps: {test_steps} **\")"
   ]
  },
  {
   "cell_type": "code",
   "execution_count": 51,
   "id": "9e612022",
   "metadata": {},
   "outputs": [
    {
     "name": "stdout",
     "output_type": "stream",
     "text": [
      "** load test generator **\n"
     ]
    }
   ],
   "source": [
    "print(\"** load test generator **\")\n",
    "test_sequence = AugmentedImageSequence(\n",
    "    dataset_csv_file=os.path.join(output_dir, \"dev.csv\"),\n",
    "    class_names=class_names,\n",
    "    source_image_dir=image_source_dir,\n",
    "    batch_size=batch_size,\n",
    "    target_size=(image_dimension, image_dimension),\n",
    "    augmenter=None,\n",
    "    steps=test_steps,\n",
    "    shuffle_on_epoch_end=False,\n",
    ")"
   ]
  },
  {
   "cell_type": "code",
   "execution_count": null,
   "id": "33480324",
   "metadata": {},
   "outputs": [],
   "source": []
  },
  {
   "cell_type": "code",
   "execution_count": null,
   "id": "d3417edd",
   "metadata": {},
   "outputs": [],
   "source": []
  },
  {
   "cell_type": "code",
   "execution_count": null,
   "id": "a5e22126",
   "metadata": {},
   "outputs": [],
   "source": []
  },
  {
   "cell_type": "code",
   "execution_count": null,
   "id": "01c3eb39",
   "metadata": {},
   "outputs": [],
   "source": []
  },
  {
   "cell_type": "code",
   "execution_count": 52,
   "id": "e76144a9",
   "metadata": {},
   "outputs": [
    {
     "name": "stdout",
     "output_type": "stream",
     "text": [
      "** load model **\n",
      "** use best weights **\n",
      "load model weights_path: ./experiments/6\\best_best_weights1.h5\n"
     ]
    }
   ],
   "source": [
    "print(\"** load model **\")\n",
    "if use_best_weights:\n",
    "    print(\"** use best weights **\")\n",
    "    model_weights_path = best_weights_path\n",
    "else:\n",
    "    print(\"** use last weights **\")\n",
    "    model_weights_path = weights_path\n",
    "model_factory = ModelFactory()\n",
    "model = model_factory.get_model(\n",
    "    class_names,\n",
    "    model_name=base_model_name,\n",
    "    use_base_weights=False,\n",
    "    weights_path=model_weights_path)"
   ]
  },
  {
   "cell_type": "code",
   "execution_count": 63,
   "id": "1f0cb378",
   "metadata": {
    "collapsed": true
   },
   "outputs": [
    {
     "name": "stdout",
     "output_type": "stream",
     "text": [
      "** make prediction **\n"
     ]
    },
    {
     "name": "stderr",
     "output_type": "stream",
     "text": [
      "C:\\Users\\Vignesh\\Anaconda3\\lib\\site-packages\\tensorflow\\python\\keras\\engine\\training.py:1905: UserWarning: `Model.predict_generator` is deprecated and will be removed in a future version. Please use `Model.predict`, which supports generators.\n",
      "  warnings.warn('`Model.predict_generator` is deprecated and '\n"
     ]
    },
    {
     "name": "stdout",
     "output_type": "stream",
     "text": [
      "47/47 [==============================] - 167s 4s/step\n",
      "** write log to ./experiments/1\\test.log **\n",
      "Atelectasis: 0.8210690294811533\n",
      "Cardiomegaly: 0.8725239071038251\n",
      "Effusion: 0.8890475772875142\n",
      "Infiltration: 0.7220461708094217\n",
      "Mass: 0.8406888546980862\n",
      "Nodule: 0.744987170515512\n",
      "Pneumonia: 0.7550844922984896\n",
      "Pneumothorax: 0.8980582524271845\n",
      "Consolidation: 0.7468601171660977\n",
      "Edema: 0.8643826322930801\n",
      "Emphysema: 0.9230561189993238\n",
      "Fibrosis: 0.7642034378876484\n",
      "Pleural_Thickening: 0.7849668722869545\n",
      "Hernia: 0.7684893596717244\n",
      "mean auroc: 0.8139617137804296\n"
     ]
    }
   ],
   "source": [
    "print(\"** make prediction **\")\n",
    "y_hat = model.predict_generator(test_sequence, verbose=1)\n",
    "y = test_sequence.get_y_true()\n",
    "\n",
    "test_log_path = os.path.join(output_dir, \"test.log\")\n",
    "print(f\"** write log to {test_log_path} **\")\n",
    "aurocs = []\n",
    "with open(test_log_path, \"w\") as f:\n",
    "    for i in range(len(class_names)):\n",
    "        try:\n",
    "            score = roc_auc_score(y[:, i], y_hat[:, i])\n",
    "            aurocs.append(score)\n",
    "        except ValueError:\n",
    "            score = 0\n",
    "        print(f\"{class_names[i]}: {score}\")\n",
    "        f.write(f\"{class_names[i]}: {score}\\n\")\n",
    "    mean_auroc = np.mean(aurocs)\n",
    "    f.write(\"-------------------------\\n\")\n",
    "    f.write(f\"mean auroc: {mean_auroc}\\n\")\n",
    "    print(f\"mean auroc: {mean_auroc}\")"
   ]
  },
  {
   "cell_type": "code",
   "execution_count": null,
   "id": "06adcd32",
   "metadata": {},
   "outputs": [],
   "source": []
  },
  {
   "cell_type": "code",
   "execution_count": 64,
   "id": "4dc4fc03",
   "metadata": {},
   "outputs": [
    {
     "name": "stdout",
     "output_type": "stream",
     "text": [
      "** write log to ./experiments/1\\test.log **\n",
      "Atelectasis: 0.8210690294811533\n",
      "Cardiomegaly: 0.8725239071038251\n",
      "Effusion: 0.8890475772875142\n",
      "Infiltration: 0.7220461708094217\n",
      "Mass: 0.8406888546980862\n",
      "Nodule: 0.744987170515512\n",
      "Pneumonia: 0.7550844922984896\n",
      "Pneumothorax: 0.8980582524271845\n",
      "Consolidation: 0.7468601171660977\n",
      "Edema: 0.8643826322930801\n",
      "Emphysema: 0.9230561189993238\n",
      "Fibrosis: 0.7642034378876484\n",
      "Pleural_Thickening: 0.7849668722869545\n",
      "Hernia: 0.7684893596717244\n",
      "mean auroc: 0.8139617137804296\n"
     ]
    },
    {
     "data": {
      "image/png": "[encoded data removed]",
      "text/plain": [
       "<Figure size 720x720 with 1 Axes>"
      ]
     },
     "metadata": {
      "needs_background": "light"
     },
     "output_type": "display_data"
    }
   ],
   "source": [
    "import sklearn.metrics as metrics\n",
    "from sklearn.metrics import roc_curve, roc_auc_score\n",
    "print(f\"** write log to {test_log_path} **\")\n",
    "aurocs = []\n",
    "when = '1'\n",
    "with open(test_log_path, \"w\") as f:\n",
    "    for i in range(len(class_names)):\n",
    "        try:\n",
    "            gt = y[:,i]\n",
    "            pred = y_hat[:,i]\n",
    "            score = roc_auc_score(gt, pred)\n",
    "            aurocs.append(score)\n",
    "            fpr_rf, tpr_rf, _ = roc_curve(gt, pred)\n",
    "            plt.figure(1, figsize=(10, 10))\n",
    "            plt.plot([0, 1], [0, 1], 'k--')\n",
    "            plt.plot(fpr_rf, tpr_rf,\n",
    "                 label=class_names[i] + \" (\" + str(round(score, 3)) + \")\")\n",
    "            plt.xlabel('False positive rate')\n",
    "            plt.ylabel('True positive rate')\n",
    "            plt.title('ROC curve ' + when)\n",
    "            plt.legend(loc='best')\n",
    "        \n",
    "            #plt.show()\n",
    "        except ValueError:\n",
    "            score = 0\n",
    "            \n",
    "        print(f\"{class_names[i]}: {score}\")\n",
    "        f.write(f\"{class_names[i]}: {score}\\n\")\n",
    "    mean_auroc = np.mean(aurocs)\n",
    "    f.write(\"-------------------------\\n\")\n",
    "    f.write(f\"mean auroc: {mean_auroc}\\n\")\n",
    "    print(f\"mean auroc: {mean_auroc}\")\n",
    "    "
   ]
  },
  {
   "cell_type": "code",
   "execution_count": 130,
   "id": "d1af13a3",
   "metadata": {},
   "outputs": [
    {
     "data": {
      "text/plain": [
       "<matplotlib.legend.Legend at 0x235f38d6910>"
      ]
     },
     "execution_count": 130,
     "metadata": {},
     "output_type": "execute_result"
    },
    {
     "data": {
      "image/png": "[encoded data removed]",
      "text/plain": [
       "<Figure size 720x360 with 1 Axes>"
      ]
     },
     "metadata": {
      "needs_background": "light"
     },
     "output_type": "display_data"
    }
   ],
   "source": [
    "\n",
    "fig, (ax1) = plt.subplots(1,figsize = (10, 5))\n",
    "ax1.plot(history.history['loss'], '-', label = 'Loss')\n",
    "ax1.plot(history.history['val_loss'], '-', label = 'Validation Loss')\n",
    "ax1.legend()\n",
    "\n"
   ]
  },
  {
   "cell_type": "markdown",
   "id": "6e4d2335",
   "metadata": {},
   "source": [
    "### RE-TRAINING THE MODEL"
   ]
  },
  {
   "cell_type": "code",
   "execution_count": 10,
   "id": "516b52dd",
   "metadata": {},
   "outputs": [],
   "source": [
    "METRICS = ['BinaryAccuracy', 'Precision' , 'Recall']   "
   ]
  },
  {
   "cell_type": "code",
   "execution_count": null,
   "id": "5e2206a2",
   "metadata": {},
   "outputs": [],
   "source": []
  },
  {
   "cell_type": "code",
   "execution_count": null,
   "id": "6f8c580c",
   "metadata": {},
   "outputs": [],
   "source": []
  },
  {
   "cell_type": "code",
   "execution_count": 11,
   "id": "e6d0bfb0",
   "metadata": {},
   "outputs": [],
   "source": [
    "import tensorflow as tf\n",
    "gpu_devices = tf.config.experimental.list_physical_devices(\"GPU\")\n",
    "for device in gpu_devices:\n",
    "    tf.config.experimental.set_memory_growth(device, True)"
   ]
  },
  {
   "cell_type": "code",
   "execution_count": 14,
   "id": "1e10e192",
   "metadata": {},
   "outputs": [
    {
     "name": "stdout",
     "output_type": "stream",
     "text": [
      "backup config file to ./experiments/6\n",
      "** train_steps: 6516 **\n",
      "** validation_steps: 396 **\n",
      "** compute class weights from training data **\n",
      "** class_weights **\n",
      "[{0: 0.1032743176107264, 1: 0.8967256823892736}, {0: 0.024590950070013235, 1: 0.9754090499299868}, {0: 0.11874436537318013, 1: 0.8812556346268199}, {0: 0.17674026048759903, 1: 0.823259739512401}, {0: 0.05132066061803464, 1: 0.9486793393819654}, {0: 0.05654767613603667, 1: 0.9434523238639633}, {0: 0.012736654326434312, 1: 0.9872633456735657}, {0: 0.04782958970325897, 1: 0.952170410296741}, {0: 0.04120230947768208, 1: 0.9587976905223179}, {0: 0.020505246197226323, 1: 0.9794947538027736}, {0: 0.022826232904302458, 1: 0.9771737670956976}, {0: 0.015076822741833388, 1: 0.9849231772581666}, {0: 0.030201599754474135, 1: 0.9697984002455259}, {0: 0.002004488519747569, 1: 0.9979955114802525}]\n",
      "** load model **\n",
      "load model weights_path: ./experiments/6\\best_weights.h5\n",
      "** create image generators **\n",
      "** set output weights path to: ./experiments/6\\weights.h5 **\n",
      "** check multiple gpu availability **\n",
      "** compile model with class weights **\n",
      "WARNING:tensorflow:`batch_size` is no longer needed in the `TensorBoard` Callback and will be ignored in TensorFlow 2.0.\n"
     ]
    }
   ],
   "source": [
    "show_model_summary = cp[\"TRAIN\"].getboolean(\"show_model_summary\")\n",
    "# end parser config\n",
    "\n",
    "# check output_dir, create it if not exists\n",
    "if not os.path.isdir(output_dir):\n",
    "    os.makedirs(output_dir)\n",
    "\n",
    "running_flag_file = os.path.join(output_dir, \".training.lock\")\n",
    "if os.path.isfile(running_flag_file):\n",
    "    raise RuntimeError(\"A process is running in this directory!!!\")\n",
    "else:\n",
    "    open(running_flag_file, \"a\").close()\n",
    "\n",
    "try:\n",
    "    print(f\"backup config file to {output_dir}\")\n",
    "    shutil.copy(config_file, os.path.join(output_dir, os.path.split(config_file)[1]))\n",
    "\n",
    "    datasets = [\"train\", \"dev\", \"test\"]\n",
    "    for dataset in datasets:\n",
    "        shutil.copy(os.path.join(dataset_csv_dir, f\"{dataset}.csv\"), output_dir)\n",
    "\n",
    "    # get train sample counts\n",
    "    train_counts, train_pos_counts = get_sample_counts(output_dir, \"train\", class_names)\n",
    "    dev_counts, _ = get_sample_counts(output_dir, \"dev\", class_names)\n",
    "\n",
    "            # compute steps\n",
    "    if train_steps == \"auto\":\n",
    "        train_steps = int(train_counts / batch_size)\n",
    "    else:\n",
    "        try:\n",
    "            train_steps = int(train_steps)\n",
    "        except ValueError:\n",
    "            raise ValueError(f\"\"\"\n",
    "            train_steps: {train_steps} is invalid,\n",
    "            please use 'auto' or integer.\n",
    "            \"\"\")\n",
    "    print(f\"** train_steps: {train_steps} **\")\n",
    "\n",
    "    if validation_steps == \"auto\":\n",
    "        validation_steps = int(dev_counts / batch_size)\n",
    "    else:\n",
    "        try:\n",
    "            validation_steps = int(validation_steps)\n",
    "        except ValueError:\n",
    "            raise ValueError(f\"\"\"\n",
    "            validation_steps: {validation_steps} is invalid,\n",
    "            please use 'auto' or integer.\n",
    "            \"\"\")\n",
    "    print(f\"** validation_steps: {validation_steps} **\")\n",
    "\n",
    "    # compute class weights\n",
    "    print(\"** compute class weights **\")\n",
    "    class_weights = get_class_weights(\n",
    "        train_counts,\n",
    "        train_pos_counts,\n",
    "        multiply=positive_weights_multiply,\n",
    "    )\n",
    "    #print(\"** class_weights **\")\n",
    "    #print(class_weights)\n",
    "\n",
    "    print(\"** load model **\")\n",
    "    if use_trained_model_weights:\n",
    "        if use_best_weights:\n",
    "            model_weights_file = os.path.join(output_dir, f\"best_{output_weights_name}\")\n",
    "        else:\n",
    "            model_weights_file = os.path.join(output_dir, output_weights_name)\n",
    "    else:\n",
    "        model_weights_file = None\n",
    "\n",
    "    model_factory = ModelFactory()\n",
    "    model = model_factory.get_model(\n",
    "        class_names,\n",
    "        model_name=base_model_name,\n",
    "        use_base_weights=use_base_model_weights,\n",
    "        weights_path=model_weights_file,\n",
    "        input_shape=(image_dimension, image_dimension, 3))\n",
    "\n",
    "    #if show_model_summary:\n",
    "        #print(model.summary())\n",
    "\n",
    "    \n",
    "    train_sequence = AugmentedImageSequence(\n",
    "        dataset_csv_file=os.path.join(output_dir, \"train.csv\"),\n",
    "        class_names=class_names,\n",
    "        source_image_dir=image_source_dir,\n",
    "        batch_size=batch_size,\n",
    "        target_size=(image_dimension, image_dimension),\n",
    "        augmenter=augmenter,\n",
    "        steps=train_steps,\n",
    "    )\n",
    "    validation_sequence = AugmentedImageSequence(\n",
    "        dataset_csv_file=os.path.join(output_dir, \"dev.csv\"),\n",
    "        class_names=class_names,\n",
    "        source_image_dir=image_source_dir,\n",
    "        batch_size=batch_size,\n",
    "        target_size=(image_dimension, image_dimension),\n",
    "        augmenter=augmenter,\n",
    "        steps=validation_steps,\n",
    "        shuffle_on_epoch_end=False,\n",
    "    )\n",
    "\n",
    "    output_weights_path = os.path.join(output_dir, output_weights_name)\n",
    "    print(f\"** set output weights path to: {output_weights_path} **\")\n",
    "\n",
    "    print(\"** check multiple gpu availability **\")\n",
    "    gpus = len(os.getenv(\"CUDA_VISIBLE_DEVICES\", \"1\").split(\",\"))\n",
    "    if gpus > 1:\n",
    "        print(f\"** multi_gpu_model is used! gpus={gpus} **\")\n",
    "        model_train = multi_gpu_model(model, gpus)\n",
    "        # FIXME: currently (Keras 2.1.2) checkpoint doesn't work with multi_gpu_model\n",
    "        checkpoint = MultiGPUModelCheckpoint(\n",
    "            filepath=output_weights_path,\n",
    "            base_model=model,\n",
    "        )\n",
    "    else:\n",
    "        model_train = model\n",
    "        checkpoint = ModelCheckpoint(\n",
    "             output_weights_path,\n",
    "             save_weights_only=True,\n",
    "             save_best_only=True,\n",
    "             verbose=1,\n",
    "        )\n",
    "\n",
    "    print(\"** compile model **\")\n",
    "    optimizer = Adam(lr=initial_learning_rate)\n",
    "    model_train.compile(optimizer=optimizer, loss=\"binary_crossentropy\")\n",
    "    auroc = MultipleClassAUROC(\n",
    "        sequence=validation_sequence,\n",
    "        class_names=class_names,\n",
    "        weights_path=output_weights_path,\n",
    "        stats=training_stats,\n",
    "        workers=generator_workers,\n",
    "    )\n",
    "    callbacks = [\n",
    "        checkpoint,\n",
    "        TensorBoard(log_dir=os.path.join(output_dir, \"logs\"), batch_size=batch_size),\n",
    "        ReduceLROnPlateau(monitor='val_loss', factor=0.1, patience=patience_reduce_lr,\n",
    "                          verbose=1, mode=\"min\", min_lr=min_lr),\n",
    "        auroc,\n",
    "    ]\n",
    "finally:\n",
    "        os.remove(running_flag_file)"
   ]
  },
  {
   "cell_type": "code",
   "execution_count": 40,
   "id": "cd78f278",
   "metadata": {},
   "outputs": [],
   "source": [
    "model_train.load_weights('best_best_weights1.h5')"
   ]
  },
  {
   "cell_type": "code",
   "execution_count": 15,
   "id": "7d0198c5",
   "metadata": {},
   "outputs": [
    {
     "name": "stderr",
     "output_type": "stream",
     "text": [
      "C:\\Users\\Vignesh\\Anaconda3\\lib\\site-packages\\tensorflow\\python\\keras\\engine\\training.py:1844: UserWarning: `Model.fit_generator` is deprecated and will be removed in a future version. Please use `Model.fit`, which supports generators.\n",
      "  warnings.warn('`Model.fit_generator` is deprecated and '\n"
     ]
    },
    {
     "name": "stdout",
     "output_type": "stream",
     "text": [
      "Epoch 1/8\n",
      "1000/1000 [==============================] - 826s 792ms/step - loss: 0.1370 - binary_accuracy: 0.9520 - precision: 0.5954 - recall: 0.1455 - val_loss: 0.1602 - val_binary_accuracy: 0.9452 - val_precision: 0.4573 - val_recall: 0.1779\n",
      "\n",
      "Epoch 00001: val_loss improved from inf to 0.16016, saving model to ./experiments/6\\weights.h5\n",
      "\n",
      "*********************************\n",
      "current learning rate: 0.0010000000474974513\n"
     ]
    },
    {
     "name": "stderr",
     "output_type": "stream",
     "text": [
      "C:\\Users\\Vignesh\\Anaconda3\\lib\\site-packages\\tensorflow\\python\\keras\\engine\\training.py:1905: UserWarning: `Model.predict_generator` is deprecated and will be removed in a future version. Please use `Model.predict`, which supports generators.\n",
      "  warnings.warn('`Model.predict_generator` is deprecated and '\n"
     ]
    },
    {
     "name": "stdout",
     "output_type": "stream",
     "text": [
      "*** epoch#1 dev auroc ***\n",
      "1. Atelectasis: 0.8025417380830057\n",
      "2. Cardiomegaly: 0.8727327763019869\n",
      "3. Effusion: 0.8699324336604981\n",
      "4. Infiltration: 0.7184681901377403\n",
      "5. Mass: 0.8346661221499315\n",
      "6. Nodule: 0.7290311500605459\n",
      "7. Pneumonia: 0.725490235746091\n",
      "8. Pneumothorax: 0.8451929131534155\n",
      "9. Consolidation: 0.7822848950252371\n",
      "10. Edema: 0.8920327324478179\n",
      "11. Emphysema: 0.8822291956416906\n",
      "12. Fibrosis: 0.7572154073387374\n",
      "13. Pleural_Thickening: 0.774391148866399\n",
      "14. Hernia: 0.8711807203501556\n",
      "*********************************\n",
      "mean auroc: 0.8112421184973752\n",
      "update best auroc from 0 to 0.8112421184973752\n",
      "update log file: ./experiments/6\\best_auroc.log\n",
      "update model file: ./experiments/6\\weights.h5 -> ./experiments/6\\best_weights.h5\n",
      "*********************************\n",
      "Epoch 2/8\n",
      "1000/1000 [==============================] - 607s 603ms/step - loss: 0.1400 - binary_accuracy: 0.9508 - precision: 0.6040 - recall: 0.1501 - val_loss: 0.1580 - val_binary_accuracy: 0.9475 - val_precision: 0.5169 - val_recall: 0.1548\n",
      "\n",
      "Epoch 00002: val_loss improved from 0.16016 to 0.15796, saving model to ./experiments/6\\weights.h5\n",
      "\n",
      "*********************************\n",
      "current learning rate: 0.0010000000474974513\n"
     ]
    },
    {
     "name": "stderr",
     "output_type": "stream",
     "text": [
      "C:\\Users\\Vignesh\\Anaconda3\\lib\\site-packages\\tensorflow\\python\\keras\\engine\\training.py:1905: UserWarning: `Model.predict_generator` is deprecated and will be removed in a future version. Please use `Model.predict`, which supports generators.\n",
      "  warnings.warn('`Model.predict_generator` is deprecated and '\n"
     ]
    },
    {
     "name": "stdout",
     "output_type": "stream",
     "text": [
      "*** epoch#2 dev auroc ***\n",
      "1. Atelectasis: 0.7925276203140449\n",
      "2. Cardiomegaly: 0.8762116997458393\n",
      "3. Effusion: 0.875182450442425\n",
      "4. Infiltration: 0.7127269508757398\n",
      "5. Mass: 0.8191660857034452\n",
      "6. Nodule: 0.7445144883099947\n",
      "7. Pneumonia: 0.7652593652071706\n",
      "8. Pneumothorax: 0.8502377286277906\n",
      "9. Consolidation: 0.7739026258420567\n",
      "10. Edema: 0.8673209203036053\n",
      "11. Emphysema: 0.866498465925372\n",
      "12. Fibrosis: 0.745976827556777\n",
      "13. Pleural_Thickening: 0.7663679538644202\n",
      "14. Hernia: 0.8440120234140167\n",
      "*********************************\n",
      "mean auroc: 0.8071360861523357\n",
      "Epoch 3/8\n",
      "1000/1000 [==============================] - 592s 588ms/step - loss: 0.1430 - binary_accuracy: 0.9505 - precision: 0.5971 - recall: 0.1420 - val_loss: 0.1666 - val_binary_accuracy: 0.9442 - val_precision: 0.4394 - val_recall: 0.1859\n",
      "\n",
      "Epoch 00003: val_loss did not improve from 0.15796\n",
      "\n",
      "Epoch 00003: ReduceLROnPlateau reducing learning rate to 0.00010000000474974513.\n",
      "\n",
      "*********************************\n",
      "current learning rate: 0.00010000000474974513\n"
     ]
    },
    {
     "name": "stderr",
     "output_type": "stream",
     "text": [
      "C:\\Users\\Vignesh\\Anaconda3\\lib\\site-packages\\tensorflow\\python\\keras\\engine\\training.py:1905: UserWarning: `Model.predict_generator` is deprecated and will be removed in a future version. Please use `Model.predict`, which supports generators.\n",
      "  warnings.warn('`Model.predict_generator` is deprecated and '\n"
     ]
    },
    {
     "name": "stdout",
     "output_type": "stream",
     "text": [
      "*** epoch#3 dev auroc ***\n",
      "1. Atelectasis: 0.7959734136938041\n",
      "2. Cardiomegaly: 0.8744790226030866\n",
      "3. Effusion: 0.8674499201858833\n",
      "4. Infiltration: 0.7110632289481771\n",
      "5. Mass: 0.8302042311566993\n",
      "6. Nodule: 0.7043538671717329\n",
      "7. Pneumonia: 0.7339304030119178\n",
      "8. Pneumothorax: 0.8421502818799872\n",
      "9. Consolidation: 0.7660402503794692\n",
      "10. Edema: 0.878472485768501\n",
      "11. Emphysema: 0.8869593173193182\n",
      "12. Fibrosis: 0.6943694899229855\n",
      "13. Pleural_Thickening: 0.739219659919715\n",
      "14. Hernia: 0.9049939355587195\n",
      "*********************************\n",
      "mean auroc: 0.8021185362514284\n",
      "Epoch 4/8\n",
      "1000/1000 [==============================] - 611s 607ms/step - loss: 0.1362 - binary_accuracy: 0.9523 - precision: 0.6360 - recall: 0.1467 - val_loss: 0.1505 - val_binary_accuracy: 0.9483 - val_precision: 0.5504 - val_recall: 0.1447\n",
      "\n",
      "Epoch 00004: val_loss improved from 0.15796 to 0.15052, saving model to ./experiments/6\\weights.h5\n",
      "\n",
      "*********************************\n",
      "current learning rate: 0.00010000000474974513\n"
     ]
    },
    {
     "name": "stderr",
     "output_type": "stream",
     "text": [
      "C:\\Users\\Vignesh\\Anaconda3\\lib\\site-packages\\tensorflow\\python\\keras\\engine\\training.py:1905: UserWarning: `Model.predict_generator` is deprecated and will be removed in a future version. Please use `Model.predict`, which supports generators.\n",
      "  warnings.warn('`Model.predict_generator` is deprecated and '\n"
     ]
    },
    {
     "name": "stdout",
     "output_type": "stream",
     "text": [
      "*** epoch#4 dev auroc ***\n",
      "1. Atelectasis: 0.8130304956761635\n",
      "2. Cardiomegaly: 0.8900919049532647\n",
      "3. Effusion: 0.8763032650480568\n",
      "4. Infiltration: 0.7199341024168013\n",
      "5. Mass: 0.850355867230123\n",
      "6. Nodule: 0.7454090919675846\n",
      "7. Pneumonia: 0.762827658339116\n",
      "8. Pneumothorax: 0.8737197335668395\n",
      "9. Consolidation: 0.7908467281486117\n",
      "10. Edema: 0.8806629506641367\n",
      "11. Emphysema: 0.8962043010001187\n",
      "12. Fibrosis: 0.7570645786084395\n",
      "13. Pleural_Thickening: 0.7879966571493187\n",
      "14. Hernia: 0.8832674154933291\n",
      "*********************************\n",
      "mean auroc: 0.8234081964472788\n",
      "update best auroc from 0.8112421184973752 to 0.8234081964472788\n",
      "update log file: ./experiments/6\\best_auroc.log\n",
      "update model file: ./experiments/6\\weights.h5 -> ./experiments/6\\best_weights.h5\n",
      "*********************************\n",
      "Epoch 5/8\n",
      "1000/1000 [==============================] - 593s 590ms/step - loss: 0.1370 - binary_accuracy: 0.9514 - precision: 0.6095 - recall: 0.1554 - val_loss: 0.1510 - val_binary_accuracy: 0.9481 - val_precision: 0.5422 - val_recall: 0.1484\n",
      "\n",
      "Epoch 00005: val_loss did not improve from 0.15052\n",
      "\n",
      "Epoch 00005: ReduceLROnPlateau reducing learning rate to 1.0000000474974514e-05.\n",
      "\n",
      "*********************************\n",
      "current learning rate: 1.0000000656873453e-05\n"
     ]
    },
    {
     "name": "stderr",
     "output_type": "stream",
     "text": [
      "C:\\Users\\Vignesh\\Anaconda3\\lib\\site-packages\\tensorflow\\python\\keras\\engine\\training.py:1905: UserWarning: `Model.predict_generator` is deprecated and will be removed in a future version. Please use `Model.predict`, which supports generators.\n",
      "  warnings.warn('`Model.predict_generator` is deprecated and '\n"
     ]
    },
    {
     "name": "stdout",
     "output_type": "stream",
     "text": [
      "*** epoch#5 dev auroc ***\n",
      "1. Atelectasis: 0.8125948470143294\n",
      "2. Cardiomegaly: 0.8870659826419152\n",
      "3. Effusion: 0.8768068440211386\n",
      "4. Infiltration: 0.7248047788272702\n",
      "5. Mass: 0.8468439211933513\n",
      "6. Nodule: 0.7468548180519763\n",
      "7. Pneumonia: 0.7528540186889419\n",
      "8. Pneumothorax: 0.8637949015633761\n",
      "9. Consolidation: 0.7918012227182053\n",
      "10. Edema: 0.8837132352941177\n",
      "11. Emphysema: 0.9065130029423482\n",
      "12. Fibrosis: 0.755037587623215\n",
      "13. Pleural_Thickening: 0.7916548877706789\n",
      "14. Hernia: 0.8789748457522544\n",
      "*********************************\n",
      "mean auroc: 0.8228082067216513\n",
      "Epoch 6/8\n",
      "1000/1000 [==============================] - 599s 591ms/step - loss: 0.1377 - binary_accuracy: 0.9514 - precision: 0.6276 - recall: 0.1633 - val_loss: 0.1501 - val_binary_accuracy: 0.9482 - val_precision: 0.5438 - val_recall: 0.1489\n",
      "\n",
      "Epoch 00006: val_loss improved from 0.15052 to 0.15013, saving model to ./experiments/6\\weights.h5\n",
      "\n",
      "*********************************\n",
      "current learning rate: 1.0000000656873453e-05\n"
     ]
    },
    {
     "name": "stderr",
     "output_type": "stream",
     "text": [
      "C:\\Users\\Vignesh\\Anaconda3\\lib\\site-packages\\tensorflow\\python\\keras\\engine\\training.py:1905: UserWarning: `Model.predict_generator` is deprecated and will be removed in a future version. Please use `Model.predict`, which supports generators.\n",
      "  warnings.warn('`Model.predict_generator` is deprecated and '\n"
     ]
    },
    {
     "name": "stdout",
     "output_type": "stream",
     "text": [
      "*** epoch#6 dev auroc ***\n",
      "1. Atelectasis: 0.8116907647340722\n",
      "2. Cardiomegaly: 0.8865858431927186\n",
      "3. Effusion: 0.8765044058313378\n",
      "4. Infiltration: 0.7240718226877397\n",
      "5. Mass: 0.8525267694769089\n",
      "6. Nodule: 0.7480628240755115\n",
      "7. Pneumonia: 0.7546869025678581\n",
      "8. Pneumothorax: 0.8663824909729533\n",
      "9. Consolidation: 0.789907945423785\n",
      "10. Edema: 0.8841401802656548\n",
      "11. Emphysema: 0.9077220913735384\n",
      "12. Fibrosis: 0.7587751971349899\n",
      "13. Pleural_Thickening: 0.7930038658336631\n",
      "14. Hernia: 0.8826767916468914\n",
      "*********************************\n",
      "mean auroc: 0.8240527068012586\n",
      "update best auroc from 0.8234081964472788 to 0.8240527068012586\n",
      "update log file: ./experiments/6\\best_auroc.log\n",
      "update model file: ./experiments/6\\weights.h5 -> ./experiments/6\\best_weights.h5\n",
      "*********************************\n",
      "Epoch 7/8\n",
      "1000/1000 [==============================] - 596s 593ms/step - loss: 0.1330 - binary_accuracy: 0.9528 - precision: 0.6479 - recall: 0.1681 - val_loss: 0.1502 - val_binary_accuracy: 0.9484 - val_precision: 0.5502 - val_recall: 0.1543\n",
      "\n",
      "Epoch 00007: val_loss did not improve from 0.15013\n",
      "\n",
      "Epoch 00007: ReduceLROnPlateau reducing learning rate to 1.0000000656873453e-06.\n",
      "\n",
      "*********************************\n",
      "current learning rate: 1.0000001111620804e-06\n"
     ]
    },
    {
     "name": "stderr",
     "output_type": "stream",
     "text": [
      "C:\\Users\\Vignesh\\Anaconda3\\lib\\site-packages\\tensorflow\\python\\keras\\engine\\training.py:1905: UserWarning: `Model.predict_generator` is deprecated and will be removed in a future version. Please use `Model.predict`, which supports generators.\n",
      "  warnings.warn('`Model.predict_generator` is deprecated and '\n"
     ]
    },
    {
     "name": "stdout",
     "output_type": "stream",
     "text": [
      "*** epoch#7 dev auroc ***\n",
      "1. Atelectasis: 0.8126327588365575\n",
      "2. Cardiomegaly: 0.8955247871990648\n",
      "3. Effusion: 0.8780876019002231\n",
      "4. Infiltration: 0.7211757357951128\n",
      "5. Mass: 0.8514903809311984\n",
      "6. Nodule: 0.7453707656720588\n",
      "7. Pneumonia: 0.7584153848954993\n",
      "8. Pneumothorax: 0.8707152274225445\n",
      "9. Consolidation: 0.792566052875969\n",
      "10. Edema: 0.8841378083491461\n",
      "11. Emphysema: 0.9086809753779275\n",
      "12. Fibrosis: 0.76110568495557\n",
      "13. Pleural_Thickening: 0.7876326892633007\n",
      "14. Hernia: 0.8720561092654115\n",
      "*********************************\n",
      "mean auroc: 0.8242565687671133\n",
      "update best auroc from 0.8240527068012586 to 0.8242565687671133\n",
      "update log file: ./experiments/6\\best_auroc.log\n",
      "update model file: ./experiments/6\\weights.h5 -> ./experiments/6\\best_weights.h5\n",
      "*********************************\n",
      "Epoch 8/8\n",
      "1000/1000 [==============================] - 606s 603ms/step - loss: 0.1381 - binary_accuracy: 0.9504 - precision: 0.6236 - recall: 0.1620 - val_loss: 0.1506 - val_binary_accuracy: 0.9482 - val_precision: 0.5408 - val_recall: 0.1560\n",
      "\n",
      "Epoch 00008: val_loss did not improve from 0.15013\n",
      "\n",
      "Epoch 00008: ReduceLROnPlateau reducing learning rate to 1.0000001111620805e-07.\n",
      "\n",
      "*********************************\n",
      "current learning rate: 1.000000082740371e-07\n"
     ]
    },
    {
     "name": "stderr",
     "output_type": "stream",
     "text": [
      "C:\\Users\\Vignesh\\Anaconda3\\lib\\site-packages\\tensorflow\\python\\keras\\engine\\training.py:1905: UserWarning: `Model.predict_generator` is deprecated and will be removed in a future version. Please use `Model.predict`, which supports generators.\n",
      "  warnings.warn('`Model.predict_generator` is deprecated and '\n"
     ]
    },
    {
     "name": "stdout",
     "output_type": "stream",
     "text": [
      "*** epoch#8 dev auroc ***\n",
      "1. Atelectasis: 0.813096335424375\n",
      "2. Cardiomegaly: 0.8932629128807845\n",
      "3. Effusion: 0.8771953123049936\n",
      "4. Infiltration: 0.7239145101601849\n",
      "5. Mass: 0.8525487308212047\n",
      "6. Nodule: 0.7458064240693016\n",
      "7. Pneumonia: 0.754907415087507\n",
      "8. Pneumothorax: 0.8708053134131583\n",
      "9. Consolidation: 0.7920711297658093\n",
      "10. Edema: 0.8861041271347248\n",
      "11. Emphysema: 0.9044135222213681\n",
      "12. Fibrosis: 0.7476451404638537\n",
      "13. Pleural_Thickening: 0.7887139919149657\n",
      "14. Hernia: 0.8905763855929968\n",
      "*********************************\n",
      "mean auroc: 0.8243615179468021\n",
      "update best auroc from 0.8242565687671133 to 0.8243615179468021\n",
      "update log file: ./experiments/6\\best_auroc.log\n",
      "update model file: ./experiments/6\\weights.h5 -> ./experiments/6\\best_weights.h5\n",
      "*********************************\n"
     ]
    }
   ],
   "source": [
    "\n",
    "    \n",
    "    model_train.compile(optimizer=optimizer, loss=\"binary_crossentropy\" , metrics = METRICS)\n",
    "    callbacks = [\n",
    "            checkpoint,\n",
    "            ReduceLROnPlateau(monitor='val_loss', factor=0.1, patience=patience_reduce_lr,\n",
    "                              verbose=1, mode=\"min\", min_lr=min_lr),\n",
    "            auroc,\n",
    "        ]\n",
    "    history = model_train.fit_generator(\n",
    "            generator=train_sequence,\n",
    "            steps_per_epoch=1000,\n",
    "            epochs=8,\n",
    "            validation_data=validation_sequence,\n",
    "            validation_steps=200,\n",
    "            callbacks=callbacks,\n",
    "            class_weight=class_weights,\n",
    "            workers=generator_workers,\n",
    "            shuffle=False,\n",
    "        )"
   ]
  },
  {
   "cell_type": "code",
   "execution_count": 34,
   "id": "1b5535db",
   "metadata": {},
   "outputs": [],
   "source": [
    "# test config\n",
    "batch_size = cp[\"TEST\"].getint(\"batch_size\")\n",
    "test_steps = cp[\"TEST\"].get(\"test_steps\")\n",
    "use_best_weights = cp[\"TEST\"].getboolean(\"use_best_weights\")\n",
    "\n",
    "# default config\n",
    "output_dir = cp[\"DEFAULT\"].get(\"output_dir\")\n",
    "base_model_name = cp[\"DEFAULT\"].get(\"base_model_name\")\n",
    "class_names = cp[\"DEFAULT\"].get(\"class_names\").split(\",\")\n",
    "image_source_dir = cp[\"DEFAULT\"].get(\"image_source_dir\")\n",
    "\n",
    "# parse weights file path\n",
    "#output_weights_name = cp[\"TRAIN\"].get(\"output_weights_name\")\n",
    "output_weights_name = \"best_weights1.h5\"\n",
    "weights_path = os.path.join(output_dir, output_weights_name)\n",
    "best_weights_path = os.path.join(output_dir, f\"best_{output_weights_name}\")"
   ]
  },
  {
   "cell_type": "code",
   "execution_count": 35,
   "id": "f89fbdd2",
   "metadata": {},
   "outputs": [
    {
     "name": "stdout",
     "output_type": "stream",
     "text": [
      "** test_steps: 47 **\n"
     ]
    }
   ],
   "source": [
    "# get test sample count\n",
    "test_counts, _ = get_sample_counts(output_dir, \"test\", class_names)\n",
    "\n",
    "# compute steps\n",
    "if test_steps == \"auto\":\n",
    "    test_steps = int(test_counts / batch_size)\n",
    "else:\n",
    "    try:\n",
    "        test_steps = int(test_steps)\n",
    "    except ValueError:\n",
    "        raise ValueError(f\"\"\"\n",
    "            test_steps: {test_steps} is invalid,\n",
    "            please use 'auto' or integer.\n",
    "            \"\"\")\n",
    "print(f\"** test_steps: {test_steps} **\")"
   ]
  },
  {
   "cell_type": "code",
   "execution_count": 36,
   "id": "0ce93057",
   "metadata": {},
   "outputs": [
    {
     "name": "stdout",
     "output_type": "stream",
     "text": [
      "** load test generator **\n"
     ]
    }
   ],
   "source": [
    "print(\"** load test generator **\")\n",
    "test_sequence = AugmentedImageSequence(\n",
    "    dataset_csv_file=os.path.join(output_dir, \"test.csv\"),\n",
    "    class_names=class_names,\n",
    "    source_image_dir=image_source_dir,\n",
    "    batch_size=batch_size,\n",
    "    target_size=(image_dimension, image_dimension),\n",
    "    augmenter=None,\n",
    "    steps=test_steps,\n",
    "    shuffle_on_epoch_end=False,\n",
    ")"
   ]
  },
  {
   "cell_type": "code",
   "execution_count": 37,
   "id": "e5e4b798",
   "metadata": {},
   "outputs": [
    {
     "name": "stdout",
     "output_type": "stream",
     "text": [
      "** load model **\n",
      "** use best weights **\n",
      "load model weights_path: ./experiments/6\\best_best_weights1.h5\n"
     ]
    }
   ],
   "source": [
    "print(\"** load model **\")\n",
    "if use_best_weights:\n",
    "    print(\"** use best weights **\")\n",
    "    model_weights_path = best_weights_path\n",
    "else:\n",
    "    print(\"** use last weights **\")\n",
    "    model_weights_path = weights_path\n",
    "model_factory = ModelFactory()\n",
    "model = model_factory.get_model(\n",
    "    class_names,\n",
    "    model_name=base_model_name,\n",
    "    use_base_weights=False,\n",
    "    weights_path=model_weights_path)"
   ]
  },
  {
   "cell_type": "code",
   "execution_count": 38,
   "id": "8bac7e30",
   "metadata": {},
   "outputs": [
    {
     "name": "stdout",
     "output_type": "stream",
     "text": [
      "** make prediction **\n"
     ]
    },
    {
     "name": "stderr",
     "output_type": "stream",
     "text": [
      "C:\\Users\\Vignesh\\Anaconda3\\lib\\site-packages\\tensorflow\\python\\keras\\engine\\training.py:1905: UserWarning: `Model.predict_generator` is deprecated and will be removed in a future version. Please use `Model.predict`, which supports generators.\n",
      "  warnings.warn('`Model.predict_generator` is deprecated and '\n"
     ]
    },
    {
     "name": "stdout",
     "output_type": "stream",
     "text": [
      "47/47 [==============================] - 228s 4s/step\n",
      "** write log to ./experiments/6\\test.log **\n",
      "Atelectasis: 0.8353368631476579\n",
      "Cardiomegaly: 0.8801058743169399\n",
      "Effusion: 0.8879284064761571\n",
      "Infiltration: 0.7277444485925051\n",
      "Mass: 0.844771506464761\n",
      "Nodule: 0.7538698390482854\n",
      "Pneumonia: 0.8116120831464034\n",
      "Pneumothorax: 0.9041206210012974\n",
      "Consolidation: 0.7443524255068067\n",
      "Edema: 0.8765490728177295\n",
      "Emphysema: 0.9341717376605815\n",
      "Fibrosis: 0.7835902888534468\n",
      "Pleural_Thickening: 0.8143324956210494\n",
      "Hernia: 0.7697299360626014\n",
      "mean auroc: 0.826301114194016\n"
     ]
    }
   ],
   "source": [
    "print(\"** make prediction **\")\n",
    "y_hat = model.predict_generator(test_sequence, verbose=1)\n",
    "y = test_sequence.get_y_true()\n",
    "\n",
    "test_log_path = os.path.join(output_dir, \"test.log\")\n",
    "print(f\"** write log to {test_log_path} **\")\n",
    "aurocs = []\n",
    "with open(test_log_path, \"w\") as f:\n",
    "    for i in range(len(class_names)):\n",
    "        try:\n",
    "            score = roc_auc_score(y[:, i], y_hat[:, i])\n",
    "            aurocs.append(score)\n",
    "        except ValueError:\n",
    "            score = 0\n",
    "        print(f\"{class_names[i]}: {score}\")\n",
    "        f.write(f\"{class_names[i]}: {score}\\n\")\n",
    "    mean_auroc = np.mean(aurocs)\n",
    "    f.write(\"-------------------------\\n\")\n",
    "    f.write(f\"mean auroc: {mean_auroc}\\n\")\n",
    "    print(f\"mean auroc: {mean_auroc}\")"
   ]
  },
  {
   "cell_type": "code",
   "execution_count": 66,
   "id": "8c02759e",
   "metadata": {
    "collapsed": true
   },
   "outputs": [
    {
     "name": "stdout",
     "output_type": "stream",
     "text": [
      "** write log to ./experiments/1\\test.log **\n"
     ]
    },
    {
     "data": {
      "image/png": "[encoded data removed]",
      "text/plain": [
       "<Figure size 216x216 with 1 Axes>"
      ]
     },
     "metadata": {
      "needs_background": "light"
     },
     "output_type": "display_data"
    },
    {
     "name": "stdout",
     "output_type": "stream",
     "text": [
      "Atelectasis: 0.8210690294811533\n"
     ]
    },
    {
     "data": {
      "image/png": "[encoded data removed]",
      "text/plain": [
       "<Figure size 216x216 with 1 Axes>"
      ]
     },
     "metadata": {
      "needs_background": "light"
     },
     "output_type": "display_data"
    },
    {
     "name": "stdout",
     "output_type": "stream",
     "text": [
      "Cardiomegaly: 0.8725239071038251\n"
     ]
    },
    {
     "data": {
      "image/png": "[encoded data removed]",
      "text/plain": [
       "<Figure size 216x216 with 1 Axes>"
      ]
     },
     "metadata": {
      "needs_background": "light"
     },
     "output_type": "display_data"
    },
    {
     "name": "stdout",
     "output_type": "stream",
     "text": [
      "Effusion: 0.8890475772875142\n"
     ]
    },
    {
     "data": {
      "image/png": "[encoded data removed]",
      "text/plain": [
       "<Figure size 216x216 with 1 Axes>"
      ]
     },
     "metadata": {
      "needs_background": "light"
     },
     "output_type": "display_data"
    },
    {
     "name": "stdout",
     "output_type": "stream",
     "text": [
      "Infiltration: 0.7220461708094217\n"
     ]
    },
    {
     "data": {
      "image/png": "[encoded data removed]",
      "text/plain": [
       "<Figure size 216x216 with 1 Axes>"
      ]
     },
     "metadata": {
      "needs_background": "light"
     },
     "output_type": "display_data"
    },
    {
     "name": "stdout",
     "output_type": "stream",
     "text": [
      "Mass: 0.8406888546980862\n"
     ]
    },
    {
     "data": {
      "image/png": "[encoded data removed]",
      "text/plain": [
       "<Figure size 216x216 with 1 Axes>"
      ]
     },
     "metadata": {
      "needs_background": "light"
     },
     "output_type": "display_data"
    },
    {
     "name": "stdout",
     "output_type": "stream",
     "text": [
      "Nodule: 0.744987170515512\n"
     ]
    },
    {
     "data": {
      "image/png": "[encoded data removed]",
      "text/plain": [
       "<Figure size 216x216 with 1 Axes>"
      ]
     },
     "metadata": {
      "needs_background": "light"
     },
     "output_type": "display_data"
    },
    {
     "name": "stdout",
     "output_type": "stream",
     "text": [
      "Pneumonia: 0.7550844922984896\n"
     ]
    },
    {
     "data": {
      "image/png": "[encoded data removed]",
      "text/plain": [
       "<Figure size 216x216 with 1 Axes>"
      ]
     },
     "metadata": {
      "needs_background": "light"
     },
     "output_type": "display_data"
    },
    {
     "name": "stdout",
     "output_type": "stream",
     "text": [
      "Pneumothorax: 0.8980582524271845\n"
     ]
    },
    {
     "data": {
      "image/png": "[encoded data removed]",
      "text/plain": [
       "<Figure size 216x216 with 1 Axes>"
      ]
     },
     "metadata": {
      "needs_background": "light"
     },
     "output_type": "display_data"
    },
    {
     "name": "stdout",
     "output_type": "stream",
     "text": [
      "Consolidation: 0.7468601171660977\n"
     ]
    },
    {
     "data": {
      "image/png": "[encoded data removed]",
      "text/plain": [
       "<Figure size 216x216 with 1 Axes>"
      ]
     },
     "metadata": {
      "needs_background": "light"
     },
     "output_type": "display_data"
    },
    {
     "name": "stdout",
     "output_type": "stream",
     "text": [
      "Edema: 0.8643826322930801\n"
     ]
    },
    {
     "data": {
      "image/png": "[encoded data removed]",
      "text/plain": [
       "<Figure size 216x216 with 1 Axes>"
      ]
     },
     "metadata": {
      "needs_background": "light"
     },
     "output_type": "display_data"
    },
    {
     "name": "stdout",
     "output_type": "stream",
     "text": [
      "Emphysema: 0.9230561189993238\n"
     ]
    },
    {
     "data": {
      "image/png": "[encoded data removed]",
      "text/plain": [
       "<Figure size 216x216 with 1 Axes>"
      ]
     },
     "metadata": {
      "needs_background": "light"
     },
     "output_type": "display_data"
    },
    {
     "name": "stdout",
     "output_type": "stream",
     "text": [
      "Fibrosis: 0.7642034378876484\n"
     ]
    },
    {
     "data": {
      "image/png": "[encoded data removed]",
      "text/plain": [
       "<Figure size 216x216 with 1 Axes>"
      ]
     },
     "metadata": {
      "needs_background": "light"
     },
     "output_type": "display_data"
    },
    {
     "name": "stdout",
     "output_type": "stream",
     "text": [
      "Pleural_Thickening: 0.7849668722869545\n"
     ]
    },
    {
     "data": {
      "image/png": "[encoded data removed]",
      "text/plain": [
       "<Figure size 216x216 with 1 Axes>"
      ]
     },
     "metadata": {
      "needs_background": "light"
     },
     "output_type": "display_data"
    },
    {
     "name": "stdout",
     "output_type": "stream",
     "text": [
      "Hernia: 0.7684893596717244\n",
      "mean auroc: 0.8139617137804296\n"
     ]
    }
   ],
   "source": [
    "import matplotlib.pyplot as plt\n",
    "import sklearn.metrics as metrics\n",
    "from sklearn.metrics import roc_curve, roc_auc_score\n",
    "print(f\"** write log to {test_log_path} **\")\n",
    "aurocs = []\n",
    "when = '2'\n",
    "with open(test_log_path, \"w\") as f:\n",
    "    for i in range(len(class_names)):\n",
    "        try:\n",
    "            gt = y[:,i]\n",
    "            pred = y_hat[:,i]\n",
    "            score = roc_auc_score(gt, pred)\n",
    "            aurocs.append(score)\n",
    "            fpr_rf, tpr_rf, _ = roc_curve(gt, pred)\n",
    "            plt.figure(1, figsize=(3, 3))\n",
    "            plt.plot([0, 1], [0, 1], 'k--')\n",
    "            plt.plot(fpr_rf, tpr_rf,\n",
    "                 label=class_names[i] + \" (\" + str(round(score, 3)) + \")\")\n",
    "            plt.xlabel('False positive rate')\n",
    "            plt.ylabel('True positive rate')\n",
    "            plt.title('ROC curve ' + when)\n",
    "            plt.legend(loc='best')\n",
    "        \n",
    "            plt.show()\n",
    "        except ValueError:\n",
    "            score = 0\n",
    "            \n",
    "        print(f\"{class_names[i]}: {score}\")\n",
    "        f.write(f\"{class_names[i]}: {score}\\n\")\n",
    "    mean_auroc = np.mean(aurocs)\n",
    "    f.write(\"-------------------------\\n\")\n",
    "    f.write(f\"mean auroc: {mean_auroc}\\n\")\n",
    "    print(f\"mean auroc: {mean_auroc}\")\n",
    "    "
   ]
  },
  {
   "cell_type": "code",
   "execution_count": 39,
   "id": "49a4b4d4",
   "metadata": {
    "scrolled": true
   },
   "outputs": [
    {
     "name": "stdout",
     "output_type": "stream",
     "text": [
      "** write log to ./experiments/6\\test.log **\n",
      "Atelectasis: 0.8353368631476579\n",
      "Cardiomegaly: 0.8801058743169399\n",
      "Effusion: 0.8879284064761571\n",
      "Infiltration: 0.7277444485925051\n",
      "Mass: 0.844771506464761\n",
      "Nodule: 0.7538698390482854\n",
      "Pneumonia: 0.8116120831464034\n",
      "Pneumothorax: 0.9041206210012974\n",
      "Consolidation: 0.7443524255068067\n",
      "Edema: 0.8765490728177295\n",
      "Emphysema: 0.9341717376605815\n",
      "Fibrosis: 0.7835902888534468\n",
      "Pleural_Thickening: 0.8143324956210494\n",
      "Hernia: 0.7697299360626014\n",
      "mean auroc: 0.826301114194016\n"
     ]
    },
    {
     "data": {
      "image/png": "[encoded data removed]",
      "text/plain": [
       "<Figure size 720x720 with 1 Axes>"
      ]
     },
     "metadata": {
      "needs_background": "light"
     },
     "output_type": "display_data"
    }
   ],
   "source": [
    "import matplotlib.pyplot as plt\n",
    "import sklearn.metrics as metrics\n",
    "from sklearn.metrics import roc_curve, roc_auc_score\n",
    "print(f\"** write log to {test_log_path} **\")\n",
    "aurocs = []\n",
    "when = '2'\n",
    "with open(test_log_path, \"w\") as f:\n",
    "    for i in range(len(class_names)):\n",
    "        try:\n",
    "            gt = y[:,i]\n",
    "            pred = y_hat[:,i]\n",
    "            score = roc_auc_score(gt, pred)\n",
    "            aurocs.append(score)\n",
    "            fpr_rf, tpr_rf, _ = roc_curve(gt, pred)\n",
    "            plt.figure(1, figsize=(10, 10))\n",
    "            plt.plot([0, 1], [0, 1], 'k--')\n",
    "            plt.plot(fpr_rf, tpr_rf,\n",
    "                 label=class_names[i] + \" (\" + str(round(score, 3)) + \")\")\n",
    "            plt.xlabel('False positive rate')\n",
    "            plt.ylabel('True positive rate')\n",
    "            plt.title('ROC curve ' + when)\n",
    "            plt.legend(loc='best')\n",
    "        \n",
    "            #plt.show()\n",
    "        except ValueError:\n",
    "            score = 0\n",
    "            \n",
    "        print(f\"{class_names[i]}: {score}\")\n",
    "        f.write(f\"{class_names[i]}: {score}\\n\")\n",
    "    mean_auroc = np.mean(aurocs)\n",
    "    f.write(\"-------------------------\\n\")\n",
    "    f.write(f\"mean auroc: {mean_auroc}\\n\")\n",
    "    print(f\"mean auroc: {mean_auroc}\")"
   ]
  }
 ],
 "metadata": {
  "kernelspec": {
   "display_name": "Python 3",
   "language": "python",
   "name": "python3"
  },
  "language_info": {
   "codemirror_mode": {
    "name": "ipython",
    "version": 3
   },
   "file_extension": ".py",
   "mimetype": "text/x-python",
   "name": "python",
   "nbconvert_exporter": "python",
   "pygments_lexer": "ipython3",
   "version": "3.8.8"
  }
 },
 "nbformat": 4,
 "nbformat_minor": 5
}
